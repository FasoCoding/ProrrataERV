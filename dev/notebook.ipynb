{
 "cells": [
  {
   "cell_type": "markdown",
   "metadata": {},
   "source": [
    "# Prorrata ERNC\n",
    "Este programa tiene por objetivo realizar el re-calculo de curtailment para el sistema, en base a metodología propuesta por la NTCyO."
   ]
  },
  {
   "cell_type": "markdown",
   "metadata": {},
   "source": [
    "## LECTURA DE DATOS\n",
    "Los datos deben ser extraidos desde el accdb en potencia neta (no por la potencia, sino por los marginales no truncados). La lista de datos que se deben extraer son:\n",
    "1. Generación de cada central.\n",
    "2. Perfil de generación de cada central.\n",
    "3. Barra asociada a cada central.\n",
    "4. Costos marginales para cada.\n",
    "5. Curtailment por central (quizas por barra es suficiente).\n",
    "6. Potencia máxima.\n",
    "7. Generación disponible.\n",
    "8. Estado de operación.\n",
    "\n",
    "Para la lectura, a modo de determinar la mejor query al sistema, sin tener que lidiar con los problemas de MS Access, se cargan las tablas en DuckDB y se utiliza jupysql para probar SQL."
   ]
  },
  {
   "cell_type": "code",
   "execution_count": 81,
   "metadata": {},
   "outputs": [
    {
     "name": "stdout",
     "output_type": "stream",
     "text": [
      "trabajando en tabla: t_attribute...\n",
      "trabajando en tabla: t_attribute_data...\n",
      "trabajando en tabla: t_band...\n",
      "trabajando en tabla: t_category...\n",
      "trabajando en tabla: t_class...\n",
      "trabajando en tabla: t_class_group...\n",
      "trabajando en tabla: t_collection...\n",
      "trabajando en tabla: t_config...\n",
      "trabajando en tabla: t_custom_column...\n",
      "trabajando en tabla: t_data_0...\n",
      "trabajando en tabla: t_data_1...\n",
      "trabajando en tabla: t_data_2...\n",
      "trabajando en tabla: t_data_3...\n",
      "trabajando en tabla: t_data_4...\n",
      "trabajando en tabla: t_data_6...\n",
      "trabajando en tabla: t_data_7...\n",
      "trabajando en tabla: t_data_current...\n",
      "trabajando en tabla: t_key...\n",
      "trabajando en tabla: t_key_index...\n",
      "trabajando en tabla: t_membership...\n",
      "trabajando en tabla: t_memo_object...\n",
      "trabajando en tabla: t_model...\n",
      "trabajando en tabla: t_object...\n",
      "trabajando en tabla: t_object_meta...\n",
      "trabajando en tabla: t_period_0...\n",
      "trabajando en tabla: t_period_1...\n",
      "trabajando en tabla: t_period_2...\n",
      "trabajando en tabla: t_period_3...\n",
      "trabajando en tabla: t_period_4...\n",
      "trabajando en tabla: t_period_6...\n",
      "trabajando en tabla: t_period_7...\n",
      "trabajando en tabla: t_phase_1...\n",
      "trabajando en tabla: t_phase_2...\n",
      "trabajando en tabla: t_phase_3...\n",
      "trabajando en tabla: t_phase_4...\n",
      "trabajando en tabla: t_property...\n",
      "trabajando en tabla: t_sample...\n",
      "trabajando en tabla: t_sample_weight...\n",
      "trabajando en tabla: t_timeslice...\n",
      "trabajando en tabla: t_unit...\n"
     ]
    }
   ],
   "source": [
    "import polars as pl\n",
    "import duckdb as duck\n",
    "\n",
    "from pathlib import Path\n",
    "from sqlalchemy.exc import SQLAlchemyError\n",
    "from sqlalchemy import (\n",
    "    engine,\n",
    "    create_engine,\n",
    "    inspect\n",
    ")\n",
    "\n",
    "path_prg = Path(r\"../data/Model PRGdia_Full_Definitivo Solution.accdb\").absolute()\n",
    "\n",
    "if not path_prg.exists():\n",
    "    raise ValueError(f\"Path: {path_prg} does not exists.\")\n",
    "\n",
    "connection_string = (\n",
    "    r\"DRIVER={Microsoft Access Driver (*.mdb, *.accdb)};\"\n",
    "    rf\"DBQ={path_prg.as_posix()};\"\n",
    "    r\"ExtendedAnsiSQL=1;\"\n",
    ")\n",
    "connection_url = engine.URL.create(\n",
    "    \"access+pyodbc\",\n",
    "    query={\"odbc_connect\": connection_string}\n",
    ")\n",
    "\n",
    "try:\n",
    "    prg_engine = create_engine(connection_url)\n",
    "    tables = inspect(prg_engine).get_table_names()\n",
    "\n",
    "    conn = duck.connect(\"PCP.duckdb\")\n",
    "    #conn.execute(\"CREATE SCHEMA IF NOT EXISTS bronze\")\n",
    "\n",
    "    for table in tables:\n",
    "        print(f\"trabajando en tabla: {table}...\")\n",
    "        df = pl.read_database(query=f\"SELECT * FROM {table}\", connection=prg_engine)\n",
    "        conn.execute(f\"CREATE OR REPLACE TABLE {table} AS SELECT * FROM df\")\n",
    "\n",
    "except SQLAlchemyError as e:\n",
    "    print(f\"Error: {e}\")\n",
    "\n",
    "finally:\n",
    "    conn.close()\n",
    "    prg_engine.dispose()"
   ]
  },
  {
   "cell_type": "markdown",
   "metadata": {},
   "source": [
    "## REVISIÓN DUCKDB\n",
    "Con la data carga en la base de datos, empezamos a mirar como armar la mejor query"
   ]
  },
  {
   "cell_type": "code",
   "execution_count": 82,
   "metadata": {},
   "outputs": [
    {
     "name": "stdout",
     "output_type": "stream",
     "text": [
      "The sql extension is already loaded. To reload it, use:\n",
      "  %reload_ext sql\n"
     ]
    }
   ],
   "source": [
    "# Esto es para carga la extensión y leer la base de datos.\n",
    "import duckdb\n",
    "\n",
    "conn_pcp = duckdb.connect(\"pcp.duckdb\")\n",
    "\n",
    "# load de la extensión para sql\n",
    "%load_ext sql\n",
    "%sql conn_pcp --alias duck"
   ]
  },
  {
   "cell_type": "code",
   "execution_count": 88,
   "metadata": {},
   "outputs": [],
   "source": [
    "# Esto es para cerrar las conexiones, usarlo al terminar de revisar\n",
    "%sql --close duck\n",
    "conn.close()"
   ]
  },
  {
   "cell_type": "markdown",
   "metadata": {},
   "source": [
    "Clasica query para sacar la generación, levemente modificada para sacar las otras propiedades de una, no es necesario tener una query por dato."
   ]
  },
  {
   "cell_type": "code",
   "execution_count": 87,
   "metadata": {},
   "outputs": [
    {
     "data": {
      "text/html": [
       "<span style=\"None\">Running query in &#x27;duck&#x27;</span>"
      ],
      "text/plain": [
       "Running query in 'duck'"
      ]
     },
     "metadata": {},
     "output_type": "display_data"
    },
    {
     "data": {
      "text/html": [
       "<table>\n",
       "    <thead>\n",
       "        <tr>\n",
       "            <th>generator</th>\n",
       "            <th>property</th>\n",
       "            <th>datetime</th>\n",
       "            <th>data_key</th>\n",
       "            <th>data_period</th>\n",
       "            <th>value</th>\n",
       "        </tr>\n",
       "    </thead>\n",
       "    <tbody>\n",
       "        <tr>\n",
       "            <td>EL_MAITEN_EO</td>\n",
       "            <td>Max Capacity</td>\n",
       "            <td>2024-01-11 00:00:00</td>\n",
       "            <td>10428</td>\n",
       "            <td>1</td>\n",
       "            <td>9.0</td>\n",
       "        </tr>\n",
       "        <tr>\n",
       "            <td>EL_MAITEN_EO</td>\n",
       "            <td>Max Capacity</td>\n",
       "            <td>2024-01-11 01:00:00</td>\n",
       "            <td>10428</td>\n",
       "            <td>2</td>\n",
       "            <td>9.0</td>\n",
       "        </tr>\n",
       "        <tr>\n",
       "            <td>EL_MAITEN_EO</td>\n",
       "            <td>Max Capacity</td>\n",
       "            <td>2024-01-11 02:00:00</td>\n",
       "            <td>10428</td>\n",
       "            <td>3</td>\n",
       "            <td>9.0</td>\n",
       "        </tr>\n",
       "        <tr>\n",
       "            <td>EL_MAITEN_EO</td>\n",
       "            <td>Max Capacity</td>\n",
       "            <td>2024-01-11 03:00:00</td>\n",
       "            <td>10428</td>\n",
       "            <td>4</td>\n",
       "            <td>9.0</td>\n",
       "        </tr>\n",
       "        <tr>\n",
       "            <td>EL_MAITEN_EO</td>\n",
       "            <td>Max Capacity</td>\n",
       "            <td>2024-01-11 04:00:00</td>\n",
       "            <td>10428</td>\n",
       "            <td>5</td>\n",
       "            <td>9.0</td>\n",
       "        </tr>\n",
       "        <tr>\n",
       "            <td>EL_MAITEN_EO</td>\n",
       "            <td>Max Capacity</td>\n",
       "            <td>2024-01-11 05:00:00</td>\n",
       "            <td>10428</td>\n",
       "            <td>6</td>\n",
       "            <td>9.0</td>\n",
       "        </tr>\n",
       "        <tr>\n",
       "            <td>EL_MAITEN_EO</td>\n",
       "            <td>Max Capacity</td>\n",
       "            <td>2024-01-11 06:00:00</td>\n",
       "            <td>10428</td>\n",
       "            <td>7</td>\n",
       "            <td>9.0</td>\n",
       "        </tr>\n",
       "        <tr>\n",
       "            <td>EL_MAITEN_EO</td>\n",
       "            <td>Max Capacity</td>\n",
       "            <td>2024-01-11 07:00:00</td>\n",
       "            <td>10428</td>\n",
       "            <td>8</td>\n",
       "            <td>9.0</td>\n",
       "        </tr>\n",
       "        <tr>\n",
       "            <td>EL_MAITEN_EO</td>\n",
       "            <td>Max Capacity</td>\n",
       "            <td>2024-01-11 08:00:00</td>\n",
       "            <td>10428</td>\n",
       "            <td>9</td>\n",
       "            <td>9.0</td>\n",
       "        </tr>\n",
       "        <tr>\n",
       "            <td>EL_MAITEN_EO</td>\n",
       "            <td>Max Capacity</td>\n",
       "            <td>2024-01-11 09:00:00</td>\n",
       "            <td>10428</td>\n",
       "            <td>10</td>\n",
       "            <td>9.0</td>\n",
       "        </tr>\n",
       "    </tbody>\n",
       "</table>\n",
       "<span style=\"font-style:italic;text-align:center;\">Truncated to <a href=\"https://jupysql.ploomber.io/en/latest/api/configuration.html#displaylimit\">displaylimit</a> of 10.</span>"
      ],
      "text/plain": [
       "+--------------+--------------+---------------------+----------+-------------+-------+\n",
       "|  generator   |   property   |       datetime      | data_key | data_period | value |\n",
       "+--------------+--------------+---------------------+----------+-------------+-------+\n",
       "| EL_MAITEN_EO | Max Capacity | 2024-01-11 00:00:00 |  10428   |      1      |  9.0  |\n",
       "| EL_MAITEN_EO | Max Capacity | 2024-01-11 01:00:00 |  10428   |      2      |  9.0  |\n",
       "| EL_MAITEN_EO | Max Capacity | 2024-01-11 02:00:00 |  10428   |      3      |  9.0  |\n",
       "| EL_MAITEN_EO | Max Capacity | 2024-01-11 03:00:00 |  10428   |      4      |  9.0  |\n",
       "| EL_MAITEN_EO | Max Capacity | 2024-01-11 04:00:00 |  10428   |      5      |  9.0  |\n",
       "| EL_MAITEN_EO | Max Capacity | 2024-01-11 05:00:00 |  10428   |      6      |  9.0  |\n",
       "| EL_MAITEN_EO | Max Capacity | 2024-01-11 06:00:00 |  10428   |      7      |  9.0  |\n",
       "| EL_MAITEN_EO | Max Capacity | 2024-01-11 07:00:00 |  10428   |      8      |  9.0  |\n",
       "| EL_MAITEN_EO | Max Capacity | 2024-01-11 08:00:00 |  10428   |      9      |  9.0  |\n",
       "| EL_MAITEN_EO | Max Capacity | 2024-01-11 09:00:00 |  10428   |      10     |  9.0  |\n",
       "+--------------+--------------+---------------------+----------+-------------+-------+\n",
       "Truncated to displaylimit of 10."
      ]
     },
     "execution_count": 87,
     "metadata": {},
     "output_type": "execute_result"
    }
   ],
   "source": [
    "%%sql\n",
    "SELECT \n",
    "    t_child.name AS generator,\n",
    "    t_property.name AS property,\n",
    "    t_period_0.datetime,\n",
    "    t_data_0.key_id AS data_key,\n",
    "    t_data_0.period_id AS data_period,\n",
    "    t_data_0.value,\n",
    "FROM ((((((((t_membership\n",
    "INNER JOIN t_collection ON t_membership.collection_id = t_collection.collection_id)\n",
    "INNER JOIN t_object AS t_parent ON t_membership.parent_object_id = t_parent.object_id)\n",
    "INNER JOIN t_object AS t_child ON t_membership.child_object_id = t_child.object_id)\n",
    "INNER JOIN t_property ON t_collection.collection_id = t_property.collection_id)\n",
    "INNER JOIN t_key ON t_membership.membership_id = t_key.membership_id AND t_property.property_id = t_key.property_id)\n",
    "INNER JOIN t_data_0 ON t_key.key_id = t_data_0.key_id)\n",
    "INNER JOIN t_phase_3 ON t_data_0.period_id = t_phase_3.period_id)\n",
    "INNER JOIN t_period_0 ON t_phase_3.interval_id = t_period_0.interval_id)\n",
    "INNER JOIN t_category ON t_child.category_id = t_category.category_id\n",
    "WHERE t_collection.collection_id = 1 AND t_property.property_id IN (1, 28, 200, 219) AND t_category.category_id IN (95, 96, 99, 100)"
   ]
  },
  {
   "cell_type": "markdown",
   "metadata": {},
   "source": [
    "Similar a la anterior, una query para sacar los datos con marginales negativos, no se necesita el resto."
   ]
  },
  {
   "cell_type": "code",
   "execution_count": 86,
   "metadata": {},
   "outputs": [
    {
     "data": {
      "text/html": [
       "<span style=\"None\">Running query in &#x27;duck&#x27;</span>"
      ],
      "text/plain": [
       "Running query in 'duck'"
      ]
     },
     "metadata": {},
     "output_type": "display_data"
    },
    {
     "data": {
      "text/html": [
       "<table>\n",
       "    <thead>\n",
       "        <tr>\n",
       "            <th>node</th>\n",
       "            <th>datetime</th>\n",
       "            <th>data_key</th>\n",
       "            <th>data_period</th>\n",
       "            <th>marginal_cost</th>\n",
       "        </tr>\n",
       "    </thead>\n",
       "    <tbody>\n",
       "        <tr>\n",
       "            <td>ElPenon110</td>\n",
       "            <td>2024-01-11 09:00:00</td>\n",
       "            <td>29602</td>\n",
       "            <td>10</td>\n",
       "            <td>-4.9626358250636</td>\n",
       "        </tr>\n",
       "        <tr>\n",
       "            <td>Francisco220</td>\n",
       "            <td>2024-01-11 10:00:00</td>\n",
       "            <td>29637</td>\n",
       "            <td>11</td>\n",
       "            <td>-1.86184524305163</td>\n",
       "        </tr>\n",
       "        <tr>\n",
       "            <td>ElPenon110</td>\n",
       "            <td>2024-01-11 11:00:00</td>\n",
       "            <td>29602</td>\n",
       "            <td>12</td>\n",
       "            <td>-0.216977423477753</td>\n",
       "        </tr>\n",
       "        <tr>\n",
       "            <td>ElPenon110</td>\n",
       "            <td>2024-01-11 12:00:00</td>\n",
       "            <td>29602</td>\n",
       "            <td>13</td>\n",
       "            <td>-0.263556176073346</td>\n",
       "        </tr>\n",
       "        <tr>\n",
       "            <td>ElPenon110</td>\n",
       "            <td>2024-01-11 13:00:00</td>\n",
       "            <td>29602</td>\n",
       "            <td>14</td>\n",
       "            <td>-0.215534871550137</td>\n",
       "        </tr>\n",
       "        <tr>\n",
       "            <td>ElPenon110</td>\n",
       "            <td>2024-01-11 14:00:00</td>\n",
       "            <td>29602</td>\n",
       "            <td>15</td>\n",
       "            <td>-0.19682939692686</td>\n",
       "        </tr>\n",
       "        <tr>\n",
       "            <td>ElPenon110</td>\n",
       "            <td>2024-01-11 15:00:00</td>\n",
       "            <td>29602</td>\n",
       "            <td>16</td>\n",
       "            <td>-0.183725258261048</td>\n",
       "        </tr>\n",
       "        <tr>\n",
       "            <td>ElPenon110</td>\n",
       "            <td>2024-01-11 16:00:00</td>\n",
       "            <td>29602</td>\n",
       "            <td>17</td>\n",
       "            <td>-0.174420067605554</td>\n",
       "        </tr>\n",
       "        <tr>\n",
       "            <td>ElPenon110</td>\n",
       "            <td>2024-01-11 17:00:00</td>\n",
       "            <td>29602</td>\n",
       "            <td>18</td>\n",
       "            <td>-0.156235601290092</td>\n",
       "        </tr>\n",
       "        <tr>\n",
       "            <td>ElPenon110</td>\n",
       "            <td>2024-01-11 18:00:00</td>\n",
       "            <td>29602</td>\n",
       "            <td>19</td>\n",
       "            <td>-0.289653561310179</td>\n",
       "        </tr>\n",
       "    </tbody>\n",
       "</table>\n",
       "<span style=\"font-style:italic;text-align:center;\">Truncated to <a href=\"https://jupysql.ploomber.io/en/latest/api/configuration.html#displaylimit\">displaylimit</a> of 10.</span>"
      ],
      "text/plain": [
       "+--------------+---------------------+----------+-------------+--------------------+\n",
       "|     node     |       datetime      | data_key | data_period |   marginal_cost    |\n",
       "+--------------+---------------------+----------+-------------+--------------------+\n",
       "|  ElPenon110  | 2024-01-11 09:00:00 |  29602   |      10     |  -4.9626358250636  |\n",
       "| Francisco220 | 2024-01-11 10:00:00 |  29637   |      11     | -1.86184524305163  |\n",
       "|  ElPenon110  | 2024-01-11 11:00:00 |  29602   |      12     | -0.216977423477753 |\n",
       "|  ElPenon110  | 2024-01-11 12:00:00 |  29602   |      13     | -0.263556176073346 |\n",
       "|  ElPenon110  | 2024-01-11 13:00:00 |  29602   |      14     | -0.215534871550137 |\n",
       "|  ElPenon110  | 2024-01-11 14:00:00 |  29602   |      15     | -0.19682939692686  |\n",
       "|  ElPenon110  | 2024-01-11 15:00:00 |  29602   |      16     | -0.183725258261048 |\n",
       "|  ElPenon110  | 2024-01-11 16:00:00 |  29602   |      17     | -0.174420067605554 |\n",
       "|  ElPenon110  | 2024-01-11 17:00:00 |  29602   |      18     | -0.156235601290092 |\n",
       "|  ElPenon110  | 2024-01-11 18:00:00 |  29602   |      19     | -0.289653561310179 |\n",
       "+--------------+---------------------+----------+-------------+--------------------+\n",
       "Truncated to displaylimit of 10."
      ]
     },
     "execution_count": 86,
     "metadata": {},
     "output_type": "execute_result"
    }
   ],
   "source": [
    "%%sql\n",
    "SELECT \n",
    "    t_child.name AS node,\n",
    "    t_period_0.datetime,\n",
    "    t_data_0.key_id AS data_key,\n",
    "    t_data_0.period_id AS data_period,\n",
    "    t_data_0.value AS marginal_cost,\n",
    "FROM ((((((((t_membership\n",
    "INNER JOIN t_collection ON t_membership.collection_id = t_collection.collection_id)\n",
    "INNER JOIN t_object AS t_parent ON t_membership.parent_object_id = t_parent.object_id)\n",
    "INNER JOIN t_object AS t_child ON t_membership.child_object_id = t_child.object_id)\n",
    "INNER JOIN t_property ON t_collection.collection_id = t_property.collection_id)\n",
    "INNER JOIN t_key ON t_membership.membership_id = t_key.membership_id AND t_property.property_id = t_key.property_id)\n",
    "INNER JOIN t_data_0 ON t_key.key_id = t_data_0.key_id)\n",
    "INNER JOIN t_phase_3 ON t_data_0.period_id = t_phase_3.period_id)\n",
    "INNER JOIN t_period_0 ON t_phase_3.interval_id = t_period_0.interval_id)\n",
    "INNER JOIN t_category ON t_child.category_id = t_category.category_id\n",
    "WHERE t_collection.collection_id = 245 AND t_property.property_id = 1233 AND t_data_0.value < 0"
   ]
  },
  {
   "cell_type": "markdown",
   "metadata": {},
   "source": [
    "Query bonita con CTE para extraer la relación entre barra y generador. Lamentablemente no hay CTE en MSACCESS por lo que se reformula en el .sql"
   ]
  },
  {
   "cell_type": "code",
   "execution_count": 85,
   "metadata": {},
   "outputs": [
    {
     "data": {
      "text/html": [
       "<span style=\"None\">Running query in &#x27;duck&#x27;</span>"
      ],
      "text/plain": [
       "Running query in 'duck'"
      ]
     },
     "metadata": {},
     "output_type": "display_data"
    },
    {
     "data": {
      "text/html": [
       "<table>\n",
       "    <thead>\n",
       "        <tr>\n",
       "            <th>node</th>\n",
       "            <th>generator</th>\n",
       "        </tr>\n",
       "    </thead>\n",
       "    <tbody>\n",
       "        <tr>\n",
       "            <td>Andes220</td>\n",
       "            <td>SOL_DEL_NORTE_ANDES_FV</td>\n",
       "        </tr>\n",
       "        <tr>\n",
       "            <td>Angamos220</td>\n",
       "            <td>TALLADO_FV</td>\n",
       "        </tr>\n",
       "        <tr>\n",
       "            <td>Arica066</td>\n",
       "            <td>PAMPA_CAMARONES_FV</td>\n",
       "        </tr>\n",
       "        <tr>\n",
       "            <td>Cachiyuyal220</td>\n",
       "            <td>PAMPA_SOLAR_NORTE_FV</td>\n",
       "        </tr>\n",
       "        <tr>\n",
       "            <td>Capricornio110</td>\n",
       "            <td>CAPRICORNIO_FV</td>\n",
       "        </tr>\n",
       "        <tr>\n",
       "            <td>Cardones110</td>\n",
       "            <td>VALLE_SOLAR_OESTE_FV</td>\n",
       "        </tr>\n",
       "        <tr>\n",
       "            <td>Cardones220</td>\n",
       "            <td>VALLE_ESCONDIDO_FV</td>\n",
       "        </tr>\n",
       "        <tr>\n",
       "            <td>Condores220</td>\n",
       "            <td>WILLKA_FV</td>\n",
       "        </tr>\n",
       "        <tr>\n",
       "            <td>CPinto220</td>\n",
       "            <td>SAN_ANDRES_FV</td>\n",
       "        </tr>\n",
       "        <tr>\n",
       "            <td>Crucero220</td>\n",
       "            <td>LAS_SALINAS_FV</td>\n",
       "        </tr>\n",
       "    </tbody>\n",
       "</table>\n",
       "<span style=\"font-style:italic;text-align:center;\">Truncated to <a href=\"https://jupysql.ploomber.io/en/latest/api/configuration.html#displaylimit\">displaylimit</a> of 10.</span>"
      ],
      "text/plain": [
       "+----------------+------------------------+\n",
       "|      node      |       generator        |\n",
       "+----------------+------------------------+\n",
       "|    Andes220    | SOL_DEL_NORTE_ANDES_FV |\n",
       "|   Angamos220   |       TALLADO_FV       |\n",
       "|    Arica066    |   PAMPA_CAMARONES_FV   |\n",
       "| Cachiyuyal220  |  PAMPA_SOLAR_NORTE_FV  |\n",
       "| Capricornio110 |     CAPRICORNIO_FV     |\n",
       "|  Cardones110   |  VALLE_SOLAR_OESTE_FV  |\n",
       "|  Cardones220   |   VALLE_ESCONDIDO_FV   |\n",
       "|  Condores220   |       WILLKA_FV        |\n",
       "|   CPinto220    |     SAN_ANDRES_FV      |\n",
       "|   Crucero220   |     LAS_SALINAS_FV     |\n",
       "+----------------+------------------------+\n",
       "Truncated to displaylimit of 10."
      ]
     },
     "execution_count": 85,
     "metadata": {},
     "output_type": "execute_result"
    }
   ],
   "source": [
    "%%sql\n",
    "WITH node_obj AS (\n",
    "    SELECT \n",
    "        t_object.object_id AS node_id,\n",
    "        t_object.name AS node,\n",
    "    FROM t_object\n",
    "    INNER JOIN t_class ON t_object.class_id = t_class.class_id\n",
    "    WHERE t_class.name = 'Node'\n",
    "), gen_obj AS (\n",
    "    SELECT \n",
    "        t_object.object_id AS gen_id,\n",
    "        t_object.name AS generator,\n",
    "    FROM t_object\n",
    "    INNER JOIN t_class ON t_object.class_id = t_class.class_id\n",
    "    WHERE t_class.name = 'Generator' AND t_object.category_id IN (95, 96, 99, 100)\n",
    ")\n",
    "\n",
    "SELECT\n",
    "    node_obj.node,\n",
    "    gen_obj.generator,\n",
    "FROM t_membership\n",
    "INNER JOIN node_obj ON t_membership.child_object_id = node_obj.node_id\n",
    "INNER JOIN gen_obj ON t_membership.parent_object_id = gen_obj.gen_id\n",
    "WHERE t_membership.collection_id = 12"
   ]
  },
  {
   "cell_type": "markdown",
   "metadata": {},
   "source": [
    "## Juntando la información\n",
    "Con el trabajo de armar los SQL, ahora se pasa a solo usar polars para disminuir la necesidad de otra libreria `DuckDB` (por mucho que me guste esta db)."
   ]
  },
  {
   "cell_type": "code",
   "execution_count": 2,
   "metadata": {},
   "outputs": [],
   "source": [
    "import polars as pl\n",
    "\n",
    "from pathlib import Path\n",
    "from sqlalchemy.exc import SQLAlchemyError\n",
    "from sqlalchemy import (\n",
    "    engine,\n",
    "    create_engine,\n",
    ")\n",
    "\n",
    "# Lectura de SQL Barra-Generador\n",
    "path_sql_node = Path(r\"../poc_prorrataerv/sql/gen_node.sql\").absolute()\n",
    "with open(path_sql_node, \"r\") as file:\n",
    "    sql_node = file.read()\n",
    "\n",
    "# Lectura de SQL con data de generacion\n",
    "path_sql_gen = Path(r\"../poc_prorrataerv/sql/gen_data.sql\").absolute()\n",
    "with open(path_sql_gen, \"r\") as file:\n",
    "    sql_gen = file.read()\n",
    "\n",
    "# lectura de SQL con data de barras con costos marginales menor a 0\n",
    "path_sql_cmg = Path(r\"../poc_prorrataerv/sql/cmg_data.sql\").absolute()\n",
    "with open(path_sql_cmg, \"r\") as file:\n",
    "    sql_cmg = file.read()\n",
    "\n",
    "# Inicio de captura de datos en dataframes\n",
    "path_prg = Path(r\"../data/Model PRGdia_Full_Definitivo Solution.accdb\").absolute()\n",
    "\n",
    "if not path_prg.exists():\n",
    "    raise ValueError(f\"Path: {path_prg} does not exists.\")\n",
    "\n",
    "connection_string = (\n",
    "    r\"DRIVER={Microsoft Access Driver (*.mdb, *.accdb)};\"\n",
    "    rf\"DBQ={path_prg.as_posix()};\"\n",
    "    r\"ExtendedAnsiSQL=1;\"\n",
    ")\n",
    "connection_url = engine.URL.create(\n",
    "    \"access+pyodbc\",\n",
    "    query={\"odbc_connect\": connection_string}\n",
    ")\n",
    "\n",
    "try:\n",
    "    prg_engine = create_engine(connection_url)\n",
    "\n",
    "    df_nodes = pl.read_database(query=sql_node, connection=prg_engine)\n",
    "    df_gen = pl.read_database(query=sql_gen, connection=prg_engine)\n",
    "    df_cmg = pl.read_database(query=sql_cmg, connection=prg_engine)\n",
    "\n",
    "except SQLAlchemyError as e:\n",
    "    print(f\"Error: {e}\")\n",
    "\n",
    "finally:\n",
    "    prg_engine.dispose()\n"
   ]
  },
  {
   "cell_type": "code",
   "execution_count": 3,
   "metadata": {},
   "outputs": [],
   "source": [
    "# Lectura de otros datos pmgd\n",
    "path_pmgd = Path(r\"W:/41 Dpto Pronosticos/Vertimiento_ERNC/Lista_PMGDs.xlsx\").absolute()\n",
    "df_pmgd = pl.read_excel(\n",
    "    source=path_pmgd,\n",
    "    sheet_name=\"Hoja1\",\n",
    "    xlsx2csv_options={\"skip_empty_lines\": True},\n",
    "    read_csv_options={\"new_columns\": [\"Nombre_CDC\",\"Centrales\"]},\n",
    ")\n",
    "\n",
    "# lectura de lista de centrales vetadas\n",
    "path_vetados = Path(r\"R:/Aplicaciones/Prorrateo_Vertimiento/Centrales_Vetadas.xlsx\").absolute()\n",
    "df_vetados = pl.read_excel(\n",
    "    source=path_vetados,\n",
    "    sheet_name=\"Hoja1\",\n",
    "    xlsx2csv_options={\"skip_empty_lines\": True},\n",
    "    read_csv_options={\"new_columns\": [\"Centrales\"]},\n",
    ")"
   ]
  },
  {
   "cell_type": "code",
   "execution_count": 5,
   "metadata": {},
   "outputs": [
    {
     "data": {
      "text/html": [
       "<div><style>\n",
       ".dataframe > thead > tr,\n",
       ".dataframe > tbody > tr {\n",
       "  text-align: right;\n",
       "  white-space: pre-wrap;\n",
       "}\n",
       "</style>\n",
       "<small>shape: (6, 2)</small><table border=\"1\" class=\"dataframe\"><thead><tr><th>Generator</th><th>Total Capacity Curtailed</th></tr><tr><td>str</td><td>f64</td></tr></thead><tbody><tr><td>&quot;TRAVESIA_FV&quot;</td><td>1.982644</td></tr><tr><td>&quot;PARANAL_FV&quot;</td><td>23.154222</td></tr><tr><td>&quot;SAN_PEDRO_GPG_…</td><td>89.5</td></tr><tr><td>&quot;USYA_FV&quot;</td><td>50.543</td></tr><tr><td>&quot;ARMAZONES_FV&quot;</td><td>45.930038</td></tr><tr><td>&quot;JOTABECHE_FV&quot;</td><td>3.522102</td></tr></tbody></table></div>"
      ],
      "text/plain": [
       "shape: (6, 2)\n",
       "┌──────────────────┬──────────────────────────┐\n",
       "│ Generator        ┆ Total Capacity Curtailed │\n",
       "│ ---              ┆ ---                      │\n",
       "│ str              ┆ f64                      │\n",
       "╞══════════════════╪══════════════════════════╡\n",
       "│ TRAVESIA_FV      ┆ 1.982644                 │\n",
       "│ PARANAL_FV       ┆ 23.154222                │\n",
       "│ SAN_PEDRO_GPG_FV ┆ 89.5                     │\n",
       "│ USYA_FV          ┆ 50.543                   │\n",
       "│ ARMAZONES_FV     ┆ 45.930038                │\n",
       "│ JOTABECHE_FV     ┆ 3.522102                 │\n",
       "└──────────────────┴──────────────────────────┘"
      ]
     },
     "execution_count": 5,
     "metadata": {},
     "output_type": "execute_result"
    }
   ],
   "source": [
    "# Check errores de curtailement por centrales no pintadas en rojo.\n",
    "(\n",
    "    df_gen\n",
    "    .filter(\n",
    "        pl.col(\"generator\").is_in(\n",
    "            pl.concat(\n",
    "                [df_vetados[\"Centrales\"].unique(),\n",
    "                 df_pmgd[\"Centrales\"].unique()]\n",
    "            )\n",
    "        )\n",
    "    )\n",
    "    .pivot(\n",
    "        values=\"value\",\n",
    "        columns=\"property\",\n",
    "        index=[\"generator\", \"datetime\"]\n",
    "    )\n",
    "    .filter(\n",
    "        pl.col(\"Units Generating\") == 1,\n",
    "        pl.col(\"Capacity Curtailed\") != 0,\n",
    "    )\n",
    "    .select(\n",
    "        pl.exclude(\"Units Generating\")\n",
    "    )\n",
    "    .group_by(pl.col(\"generator\").alias(\"Generator\"))\n",
    "    .agg(pl.col(\"Capacity Curtailed\").sum().alias(\"Total Capacity Curtailed\"))\n",
    ")"
   ]
  },
  {
   "cell_type": "code",
   "execution_count": 6,
   "metadata": {},
   "outputs": [
    {
     "data": {
      "text/html": [
       "<div><style>\n",
       ".dataframe > thead > tr,\n",
       ".dataframe > tbody > tr {\n",
       "  text-align: right;\n",
       "  white-space: pre-wrap;\n",
       "}\n",
       "</style>\n",
       "<small>shape: (3_458, 6)</small><table border=\"1\" class=\"dataframe\"><thead><tr><th>generator</th><th>datetime</th><th>Generation</th><th>Capacity Curtailed</th><th>Max Capacity</th><th>Available Capacity</th></tr><tr><td>str</td><td>datetime[μs]</td><td>f64</td><td>f64</td><td>f64</td><td>f64</td></tr></thead><tbody><tr><td>&quot;ANCOA&quot;</td><td>2024-01-11 00:00:00</td><td>23.2</td><td>0.0</td><td>24.656</td><td>23.2</td></tr><tr><td>&quot;ANCOA&quot;</td><td>2024-01-11 01:00:00</td><td>23.2</td><td>0.0</td><td>24.656</td><td>23.2</td></tr><tr><td>&quot;ANCOA&quot;</td><td>2024-01-11 02:00:00</td><td>23.2</td><td>0.0</td><td>24.656</td><td>23.2</td></tr><tr><td>&quot;ANCOA&quot;</td><td>2024-01-11 03:00:00</td><td>23.2</td><td>0.0</td><td>24.656</td><td>23.2</td></tr><tr><td>&quot;ANCOA&quot;</td><td>2024-01-11 04:00:00</td><td>23.2</td><td>0.0</td><td>24.656</td><td>23.2</td></tr><tr><td>&quot;ANCOA&quot;</td><td>2024-01-11 05:00:00</td><td>23.2</td><td>0.0</td><td>24.656</td><td>23.2</td></tr><tr><td>&quot;ANCOA&quot;</td><td>2024-01-11 06:00:00</td><td>23.2</td><td>0.0</td><td>24.656</td><td>23.2</td></tr><tr><td>&quot;ANCOA&quot;</td><td>2024-01-11 07:00:00</td><td>23.2</td><td>0.0</td><td>24.656</td><td>23.2</td></tr><tr><td>&quot;ANCOA&quot;</td><td>2024-01-11 08:00:00</td><td>23.2</td><td>0.0</td><td>24.656</td><td>23.2</td></tr><tr><td>&quot;ANCOA&quot;</td><td>2024-01-11 09:00:00</td><td>23.2</td><td>0.0</td><td>24.656</td><td>23.2</td></tr><tr><td>&quot;ANCOA&quot;</td><td>2024-01-11 10:00:00</td><td>23.2</td><td>0.0</td><td>24.656</td><td>23.2</td></tr><tr><td>&quot;ANCOA&quot;</td><td>2024-01-11 11:00:00</td><td>23.2</td><td>0.0</td><td>24.656</td><td>23.2</td></tr><tr><td>&hellip;</td><td>&hellip;</td><td>&hellip;</td><td>&hellip;</td><td>&hellip;</td><td>&hellip;</td></tr><tr><td>&quot;VALLE_ESCONDID…</td><td>2024-01-11 08:00:00</td><td>73.5</td><td>0.0</td><td>105.0</td><td>73.5</td></tr><tr><td>&quot;VALLE_ESCONDID…</td><td>2024-01-11 09:00:00</td><td>100.5</td><td>0.0</td><td>105.0</td><td>100.5</td></tr><tr><td>&quot;VALLE_ESCONDID…</td><td>2024-01-11 10:00:00</td><td>0.0</td><td>101.3</td><td>105.0</td><td>101.3</td></tr><tr><td>&quot;VALLE_ESCONDID…</td><td>2024-01-11 11:00:00</td><td>101.2</td><td>0.0</td><td>105.0</td><td>101.2</td></tr><tr><td>&quot;VALLE_ESCONDID…</td><td>2024-01-11 12:00:00</td><td>97.0</td><td>0.0</td><td>105.0</td><td>97.0</td></tr><tr><td>&quot;VALLE_ESCONDID…</td><td>2024-01-11 13:00:00</td><td>94.7</td><td>0.0</td><td>105.0</td><td>94.7</td></tr><tr><td>&quot;VALLE_ESCONDID…</td><td>2024-01-11 14:00:00</td><td>94.7</td><td>0.0</td><td>105.0</td><td>94.7</td></tr><tr><td>&quot;VALLE_ESCONDID…</td><td>2024-01-11 15:00:00</td><td>94.8</td><td>0.0</td><td>105.0</td><td>94.8</td></tr><tr><td>&quot;VALLE_ESCONDID…</td><td>2024-01-11 16:00:00</td><td>94.8</td><td>0.0</td><td>105.0</td><td>94.8</td></tr><tr><td>&quot;VALLE_ESCONDID…</td><td>2024-01-11 17:00:00</td><td>94.8</td><td>0.0</td><td>105.0</td><td>94.8</td></tr><tr><td>&quot;VALLE_ESCONDID…</td><td>2024-01-11 18:00:00</td><td>92.1</td><td>0.0</td><td>105.0</td><td>92.1</td></tr><tr><td>&quot;VALLE_ESCONDID…</td><td>2024-01-11 19:00:00</td><td>45.5</td><td>0.0</td><td>105.0</td><td>45.5</td></tr></tbody></table></div>"
      ],
      "text/plain": [
       "shape: (3_458, 6)\n",
       "┌───────────────────────┬──────────────────────┬────────────┬───────────┬──────────────┬───────────┐\n",
       "│ generator             ┆ datetime             ┆ Generation ┆ Capacity  ┆ Max Capacity ┆ Available │\n",
       "│ ---                   ┆ ---                  ┆ ---        ┆ Curtailed ┆ ---          ┆ Capacity  │\n",
       "│ str                   ┆ datetime[μs]         ┆ f64        ┆ ---       ┆ f64          ┆ ---       │\n",
       "│                       ┆                      ┆            ┆ f64       ┆              ┆ f64       │\n",
       "╞═══════════════════════╪══════════════════════╪════════════╪═══════════╪══════════════╪═══════════╡\n",
       "│ ANCOA                 ┆ 2024-01-11 00:00:00  ┆ 23.2       ┆ 0.0       ┆ 24.656       ┆ 23.2      │\n",
       "│ ANCOA                 ┆ 2024-01-11 01:00:00  ┆ 23.2       ┆ 0.0       ┆ 24.656       ┆ 23.2      │\n",
       "│ ANCOA                 ┆ 2024-01-11 02:00:00  ┆ 23.2       ┆ 0.0       ┆ 24.656       ┆ 23.2      │\n",
       "│ ANCOA                 ┆ 2024-01-11 03:00:00  ┆ 23.2       ┆ 0.0       ┆ 24.656       ┆ 23.2      │\n",
       "│ …                     ┆ …                    ┆ …          ┆ …         ┆ …            ┆ …         │\n",
       "│ VALLE_ESCONDIDO_FV    ┆ 2024-01-11 16:00:00  ┆ 94.8       ┆ 0.0       ┆ 105.0        ┆ 94.8      │\n",
       "│ VALLE_ESCONDIDO_FV    ┆ 2024-01-11 17:00:00  ┆ 94.8       ┆ 0.0       ┆ 105.0        ┆ 94.8      │\n",
       "│ VALLE_ESCONDIDO_FV    ┆ 2024-01-11 18:00:00  ┆ 92.1       ┆ 0.0       ┆ 105.0        ┆ 92.1      │\n",
       "│ VALLE_ESCONDIDO_FV    ┆ 2024-01-11 19:00:00  ┆ 45.5       ┆ 0.0       ┆ 105.0        ┆ 45.5      │\n",
       "└───────────────────────┴──────────────────────┴────────────┴───────────┴──────────────┴───────────┘"
      ]
     },
     "execution_count": 6,
     "metadata": {},
     "output_type": "execute_result"
    }
   ],
   "source": [
    "# transformación de data para generación, eliminando centrales vetadas y pmgd\n",
    "# y pivotear la data para tener las columnas de las propiedades\n",
    "# y filtrar las centrales que no estan generando\n",
    "df_gen_pivot = (\n",
    "    df_gen\n",
    "    .filter(\n",
    "        ~pl.col(\"generator\").is_in(df_vetados[\"Centrales\"].unique()),\n",
    "        ~pl.col(\"generator\").is_in(df_pmgd[\"Centrales\"].unique()),\n",
    "    )\n",
    "    .pivot(\n",
    "        values=\"value\",\n",
    "        columns=\"property\",\n",
    "        index=[\"generator\", \"datetime\"]\n",
    "    )\n",
    "    .filter(\n",
    "        pl.col(\"Units Generating\") == 1,\n",
    "    )\n",
    "    .select(\n",
    "        pl.exclude(\"Units Generating\")\n",
    "    )\n",
    ")\n",
    "df_gen_pivot"
   ]
  },
  {
   "cell_type": "code",
   "execution_count": null,
   "metadata": {},
   "outputs": [],
   "source": [
    "def corregir(df: pl.DataFrame) -> pl.DataFrame:\n",
    "    sum_check = (\n",
    "        df\n",
    "        .filter(pl.col(\"Prorrata\").lt(0))\n",
    "        .select(pl.col(\"Prorrata\").sum().alias(\"Total_error\"))\n",
    "    )\n",
    "    if (sum_check.item() >= 0.004):\n",
    "        \n",
    "    return "
   ]
  },
  {
   "cell_type": "code",
   "execution_count": 21,
   "metadata": {},
   "outputs": [
    {
     "data": {
      "text/plain": [
       "-287.6291210228807"
      ]
     },
     "execution_count": 21,
     "metadata": {},
     "output_type": "execute_result"
    }
   ],
   "source": [
    "sum_check = (\n",
    "        data\n",
    "        .filter(pl.col(\"Prorrata\").lt(0))\n",
    "        .select(pl.col(\"Prorrata\").sum().alias(\"Total_error\"))\n",
    ")\n",
    "sum_check.item()"
   ]
  },
  {
   "cell_type": "code",
   "execution_count": 27,
   "metadata": {},
   "outputs": [
    {
     "data": {
      "text/html": [
       "<div><style>\n",
       ".dataframe > thead > tr,\n",
       ".dataframe > tbody > tr {\n",
       "  text-align: right;\n",
       "  white-space: pre-wrap;\n",
       "}\n",
       "</style>\n",
       "<small>shape: (9, 9)</small><table border=\"1\" class=\"dataframe\"><thead><tr><th>describe</th><th>node</th><th>datetime</th><th>generator</th><th>Generation</th><th>Capacity Curtailed</th><th>Max Capacity</th><th>Available Capacity</th><th>Prorrata</th></tr><tr><td>str</td><td>str</td><td>str</td><td>str</td><td>f64</td><td>f64</td><td>f64</td><td>f64</td><td>f64</td></tr></thead><tbody><tr><td>&quot;count&quot;</td><td>&quot;823&quot;</td><td>&quot;823&quot;</td><td>&quot;823&quot;</td><td>823.0</td><td>823.0</td><td>823.0</td><td>823.0</td><td>823.0</td></tr><tr><td>&quot;null_count&quot;</td><td>&quot;0&quot;</td><td>&quot;0&quot;</td><td>&quot;0&quot;</td><td>0.0</td><td>0.0</td><td>0.0</td><td>0.0</td><td>0.0</td></tr><tr><td>&quot;mean&quot;</td><td>null</td><td>null</td><td>null</td><td>46.685793</td><td>9.270782</td><td>82.792001</td><td>55.956575</td><td>47.035282</td></tr><tr><td>&quot;std&quot;</td><td>null</td><td>null</td><td>null</td><td>65.275302</td><td>25.71281</td><td>77.776877</td><td>64.189668</td><td>56.15486</td></tr><tr><td>&quot;min&quot;</td><td>&quot;AJahuel220&quot;</td><td>&quot;2024-01-11 09:…</td><td>&quot;ABANICO&quot;</td><td>0.0</td><td>0.0</td><td>0.3</td><td>0.003134</td><td>0.0</td></tr><tr><td>&quot;25%&quot;</td><td>null</td><td>null</td><td>null</td><td>1.1</td><td>0.0</td><td>10.5</td><td>6.4</td><td>4.15758</td></tr><tr><td>&quot;50%&quot;</td><td>null</td><td>null</td><td>null</td><td>14.5</td><td>0.0</td><td>69.0</td><td>37.88</td><td>29.372759</td></tr><tr><td>&quot;75%&quot;</td><td>null</td><td>null</td><td>null</td><td>74.68</td><td>0.0</td><td>115.5</td><td>87.3</td><td>72.662517</td></tr><tr><td>&quot;max&quot;</td><td>&quot;Tinguiririca15…</td><td>&quot;2024-01-11 18:…</td><td>&quot;VALLE_ESCONDID…</td><td>366.746</td><td>164.9</td><td>381.0</td><td>366.746</td><td>328.148166</td></tr></tbody></table></div>"
      ],
      "text/plain": [
       "shape: (9, 9)\n",
       "┌───────────┬───────────┬───────────┬───────────┬───┬───────────┬───────────┬───────────┬──────────┐\n",
       "│ describe  ┆ node      ┆ datetime  ┆ generator ┆ … ┆ Capacity  ┆ Max       ┆ Available ┆ Prorrata │\n",
       "│ ---       ┆ ---       ┆ ---       ┆ ---       ┆   ┆ Curtailed ┆ Capacity  ┆ Capacity  ┆ ---      │\n",
       "│ str       ┆ str       ┆ str       ┆ str       ┆   ┆ ---       ┆ ---       ┆ ---       ┆ f64      │\n",
       "│           ┆           ┆           ┆           ┆   ┆ f64       ┆ f64       ┆ f64       ┆          │\n",
       "╞═══════════╪═══════════╪═══════════╪═══════════╪═══╪═══════════╪═══════════╪═══════════╪══════════╡\n",
       "│ count     ┆ 823       ┆ 823       ┆ 823       ┆ … ┆ 823.0     ┆ 823.0     ┆ 823.0     ┆ 823.0    │\n",
       "│ null_coun ┆ 0         ┆ 0         ┆ 0         ┆ … ┆ 0.0       ┆ 0.0       ┆ 0.0       ┆ 0.0      │\n",
       "│ t         ┆           ┆           ┆           ┆   ┆           ┆           ┆           ┆          │\n",
       "│ mean      ┆ null      ┆ null      ┆ null      ┆ … ┆ 9.270782  ┆ 82.792001 ┆ 55.956575 ┆ 47.03528 │\n",
       "│           ┆           ┆           ┆           ┆   ┆           ┆           ┆           ┆ 2        │\n",
       "│ std       ┆ null      ┆ null      ┆ null      ┆ … ┆ 25.71281  ┆ 77.776877 ┆ 64.189668 ┆ 56.15486 │\n",
       "│ min       ┆ AJahuel22 ┆ 2024-01-1 ┆ ABANICO   ┆ … ┆ 0.0       ┆ 0.3       ┆ 0.003134  ┆ 0.0      │\n",
       "│           ┆ 0         ┆ 1         ┆           ┆   ┆           ┆           ┆           ┆          │\n",
       "│           ┆           ┆ 09:00:00  ┆           ┆   ┆           ┆           ┆           ┆          │\n",
       "│ 25%       ┆ null      ┆ null      ┆ null      ┆ … ┆ 0.0       ┆ 10.5      ┆ 6.4       ┆ 4.15758  │\n",
       "│ 50%       ┆ null      ┆ null      ┆ null      ┆ … ┆ 0.0       ┆ 69.0      ┆ 37.88     ┆ 29.37275 │\n",
       "│           ┆           ┆           ┆           ┆   ┆           ┆           ┆           ┆ 9        │\n",
       "│ 75%       ┆ null      ┆ null      ┆ null      ┆ … ┆ 0.0       ┆ 115.5     ┆ 87.3      ┆ 72.66251 │\n",
       "│           ┆           ┆           ┆           ┆   ┆           ┆           ┆           ┆ 7        │\n",
       "│ max       ┆ Tinguirir ┆ 2024-01-1 ┆ VALLE_ESC ┆ … ┆ 164.9     ┆ 381.0     ┆ 366.746   ┆ 328.1481 │\n",
       "│           ┆ ica154    ┆ 1         ┆ ONDIDO_FV ┆   ┆           ┆           ┆           ┆ 66       │\n",
       "│           ┆           ┆ 18:00:00  ┆           ┆   ┆           ┆           ┆           ┆          │\n",
       "└───────────┴───────────┴───────────┴───────────┴───┴───────────┴───────────┴───────────┴──────────┘"
      ]
     },
     "execution_count": 27,
     "metadata": {},
     "output_type": "execute_result"
    }
   ],
   "source": [
    "(\n",
    "    data\n",
    "    .select(\n",
    "        pl.col(\"*\").exclude(\"Prorrata\"),\n",
    "        pl.when(\n",
    "            pl.col(\"Prorrata\").lt(0),\n",
    "        )\n",
    "        .then(0)\n",
    "        .otherwise(pl.col(\"Prorrata\"))\n",
    "        .alias(\"Prorrata\")\n",
    "    )\n",
    ")"
   ]
  },
  {
   "cell_type": "code",
   "execution_count": 28,
   "metadata": {},
   "outputs": [
    {
     "data": {
      "text/html": [
       "<div><style>\n",
       ".dataframe > thead > tr,\n",
       ".dataframe > tbody > tr {\n",
       "  text-align: right;\n",
       "  white-space: pre-wrap;\n",
       "}\n",
       "</style>\n",
       "<small>shape: (823, 8)</small><table border=\"1\" class=\"dataframe\"><thead><tr><th>node</th><th>datetime</th><th>generator</th><th>Generation</th><th>Capacity Curtailed</th><th>Max Capacity</th><th>Available Capacity</th><th>Prorrata</th></tr><tr><td>str</td><td>datetime[μs]</td><td>str</td><td>f64</td><td>f64</td><td>f64</td><td>f64</td><td>f64</td></tr></thead><tbody><tr><td>&quot;Linares154&quot;</td><td>2024-01-11 09:00:00</td><td>&quot;ANCOA&quot;</td><td>23.2</td><td>0.0</td><td>24.656</td><td>23.2</td><td>23.017182</td></tr><tr><td>&quot;AJahuel220&quot;</td><td>2024-01-11 09:00:00</td><td>&quot;CARENA&quot;</td><td>2.75</td><td>0.0</td><td>10.0</td><td>2.75</td><td>2.675852</td></tr><tr><td>&quot;Polpaico220&quot;</td><td>2024-01-11 09:00:00</td><td>&quot;CHACABUQUITO&quot;</td><td>17.4</td><td>0.0</td><td>25.7</td><td>17.4</td><td>17.20944</td></tr><tr><td>&quot;Arica066&quot;</td><td>2024-01-11 15:00:00</td><td>&quot;CHAPIQUINA&quot;</td><td>3.5</td><td>0.0</td><td>10.14</td><td>3.5</td><td>1.970861</td></tr><tr><td>&quot;Arica066&quot;</td><td>2024-01-11 16:00:00</td><td>&quot;CHAPIQUINA&quot;</td><td>3.5</td><td>0.0</td><td>10.14</td><td>3.5</td><td>1.787721</td></tr><tr><td>&quot;Arica066&quot;</td><td>2024-01-11 17:00:00</td><td>&quot;CHAPIQUINA&quot;</td><td>3.5</td><td>0.0</td><td>10.14</td><td>3.5</td><td>2.026857</td></tr><tr><td>&quot;Arica066&quot;</td><td>2024-01-11 18:00:00</td><td>&quot;CHAPIQUINA&quot;</td><td>3.5</td><td>0.0</td><td>10.14</td><td>3.5</td><td>3.013728</td></tr><tr><td>&quot;Itahue154&quot;</td><td>2024-01-11 09:00:00</td><td>&quot;CONVENTO_VIEJO…</td><td>14.5</td><td>0.0</td><td>19.4</td><td>14.5</td><td>14.356154</td></tr><tr><td>&quot;Tinguiririca15…</td><td>2024-01-11 09:00:00</td><td>&quot;EL_PASO&quot;</td><td>57.0</td><td>0.0</td><td>60.0</td><td>57.0</td><td>56.555114</td></tr><tr><td>&quot;Florida110&quot;</td><td>2024-01-11 09:00:00</td><td>&quot;FLORIDA_2&quot;</td><td>11.0</td><td>0.0</td><td>28.0</td><td>11.0</td><td>10.792387</td></tr><tr><td>&quot;Florida110&quot;</td><td>2024-01-11 09:00:00</td><td>&quot;FLORIDA_3&quot;</td><td>2.2</td><td>0.0</td><td>28.0</td><td>2.2</td><td>1.992387</td></tr><tr><td>&quot;Polpaico220&quot;</td><td>2024-01-11 09:00:00</td><td>&quot;JUNCAL&quot;</td><td>24.0</td><td>0.0</td><td>32.0</td><td>24.0</td><td>23.762727</td></tr><tr><td>&hellip;</td><td>&hellip;</td><td>&hellip;</td><td>&hellip;</td><td>&hellip;</td><td>&hellip;</td><td>&hellip;</td><td>&hellip;</td></tr><tr><td>&quot;Miraje220&quot;</td><td>2024-01-11 17:00:00</td><td>&quot;VALLE_DEL_SOL_…</td><td>120.24</td><td>0.0</td><td>149.9</td><td>120.24</td><td>98.462474</td></tr><tr><td>&quot;Miraje220&quot;</td><td>2024-01-11 18:00:00</td><td>&quot;VALLE_DEL_SOL_…</td><td>93.81</td><td>0.0</td><td>149.9</td><td>93.81</td><td>86.621424</td></tr><tr><td>&quot;Cardones220&quot;</td><td>2024-01-11 09:00:00</td><td>&quot;VALLE_ESCONDID…</td><td>100.5</td><td>0.0</td><td>105.0</td><td>100.5</td><td>99.721449</td></tr><tr><td>&quot;Cardones220&quot;</td><td>2024-01-11 10:00:00</td><td>&quot;VALLE_ESCONDID…</td><td>0.0</td><td>101.3</td><td>105.0</td><td>101.3</td><td>79.338255</td></tr><tr><td>&quot;Cardones220&quot;</td><td>2024-01-11 11:00:00</td><td>&quot;VALLE_ESCONDID…</td><td>101.2</td><td>0.0</td><td>105.0</td><td>101.2</td><td>91.168825</td></tr><tr><td>&quot;Cardones220&quot;</td><td>2024-01-11 12:00:00</td><td>&quot;VALLE_ESCONDID…</td><td>97.0</td><td>0.0</td><td>105.0</td><td>97.0</td><td>85.572863</td></tr><tr><td>&quot;Cardones220&quot;</td><td>2024-01-11 13:00:00</td><td>&quot;VALLE_ESCONDID…</td><td>94.7</td><td>0.0</td><td>105.0</td><td>94.7</td><td>80.186786</td></tr><tr><td>&quot;Cardones220&quot;</td><td>2024-01-11 14:00:00</td><td>&quot;VALLE_ESCONDID…</td><td>94.7</td><td>0.0</td><td>105.0</td><td>94.7</td><td>77.573641</td></tr><tr><td>&quot;Cardones220&quot;</td><td>2024-01-11 15:00:00</td><td>&quot;VALLE_ESCONDID…</td><td>94.8</td><td>0.0</td><td>105.0</td><td>94.8</td><td>78.965724</td></tr><tr><td>&quot;Cardones220&quot;</td><td>2024-01-11 16:00:00</td><td>&quot;VALLE_ESCONDID…</td><td>94.8</td><td>0.0</td><td>105.0</td><td>94.8</td><td>77.069302</td></tr><tr><td>&quot;Cardones220&quot;</td><td>2024-01-11 17:00:00</td><td>&quot;VALLE_ESCONDID…</td><td>94.8</td><td>0.0</td><td>105.0</td><td>94.8</td><td>79.545562</td></tr><tr><td>&quot;Cardones220&quot;</td><td>2024-01-11 18:00:00</td><td>&quot;VALLE_ESCONDID…</td><td>92.1</td><td>0.0</td><td>105.0</td><td>92.1</td><td>87.06464</td></tr></tbody></table></div>"
      ],
      "text/plain": [
       "shape: (823, 8)\n",
       "┌────────────┬────────────┬────────────┬───────────┬───────────┬───────────┬───────────┬───────────┐\n",
       "│ node       ┆ datetime   ┆ generator  ┆ Generatio ┆ Capacity  ┆ Max       ┆ Available ┆ Prorrata  │\n",
       "│ ---        ┆ ---        ┆ ---        ┆ n         ┆ Curtailed ┆ Capacity  ┆ Capacity  ┆ ---       │\n",
       "│ str        ┆ datetime[μ ┆ str        ┆ ---       ┆ ---       ┆ ---       ┆ ---       ┆ f64       │\n",
       "│            ┆ s]         ┆            ┆ f64       ┆ f64       ┆ f64       ┆ f64       ┆           │\n",
       "╞════════════╪════════════╪════════════╪═══════════╪═══════════╪═══════════╪═══════════╪═══════════╡\n",
       "│ Linares154 ┆ 2024-01-11 ┆ ANCOA      ┆ 23.2      ┆ 0.0       ┆ 24.656    ┆ 23.2      ┆ 23.017182 │\n",
       "│            ┆ 09:00:00   ┆            ┆           ┆           ┆           ┆           ┆           │\n",
       "│ AJahuel220 ┆ 2024-01-11 ┆ CARENA     ┆ 2.75      ┆ 0.0       ┆ 10.0      ┆ 2.75      ┆ 2.675852  │\n",
       "│            ┆ 09:00:00   ┆            ┆           ┆           ┆           ┆           ┆           │\n",
       "│ Polpaico22 ┆ 2024-01-11 ┆ CHACABUQUI ┆ 17.4      ┆ 0.0       ┆ 25.7      ┆ 17.4      ┆ 17.20944  │\n",
       "│ 0          ┆ 09:00:00   ┆ TO         ┆           ┆           ┆           ┆           ┆           │\n",
       "│ Arica066   ┆ 2024-01-11 ┆ CHAPIQUINA ┆ 3.5       ┆ 0.0       ┆ 10.14     ┆ 3.5       ┆ 1.970861  │\n",
       "│            ┆ 15:00:00   ┆            ┆           ┆           ┆           ┆           ┆           │\n",
       "│ …          ┆ …          ┆ …          ┆ …         ┆ …         ┆ …         ┆ …         ┆ …         │\n",
       "│ Cardones22 ┆ 2024-01-11 ┆ VALLE_ESCO ┆ 94.8      ┆ 0.0       ┆ 105.0     ┆ 94.8      ┆ 78.965724 │\n",
       "│ 0          ┆ 15:00:00   ┆ NDIDO_FV   ┆           ┆           ┆           ┆           ┆           │\n",
       "│ Cardones22 ┆ 2024-01-11 ┆ VALLE_ESCO ┆ 94.8      ┆ 0.0       ┆ 105.0     ┆ 94.8      ┆ 77.069302 │\n",
       "│ 0          ┆ 16:00:00   ┆ NDIDO_FV   ┆           ┆           ┆           ┆           ┆           │\n",
       "│ Cardones22 ┆ 2024-01-11 ┆ VALLE_ESCO ┆ 94.8      ┆ 0.0       ┆ 105.0     ┆ 94.8      ┆ 79.545562 │\n",
       "│ 0          ┆ 17:00:00   ┆ NDIDO_FV   ┆           ┆           ┆           ┆           ┆           │\n",
       "│ Cardones22 ┆ 2024-01-11 ┆ VALLE_ESCO ┆ 92.1      ┆ 0.0       ┆ 105.0     ┆ 92.1      ┆ 87.06464  │\n",
       "│ 0          ┆ 18:00:00   ┆ NDIDO_FV   ┆           ┆           ┆           ┆           ┆           │\n",
       "└────────────┴────────────┴────────────┴───────────┴───────────┴───────────┴───────────┴───────────┘"
      ]
     },
     "execution_count": 28,
     "metadata": {},
     "output_type": "execute_result"
    }
   ],
   "source": [
    "# Une la data de generación con la data de nodos y costos marginales\n",
    "# y calcula la prorrata.\n",
    "data = (\n",
    "    df_cmg\n",
    "    .join(df_nodes, on=\"node\", how=\"inner\")\n",
    "    .join(df_gen_pivot, on=[\"generator\",\"datetime\"], how=\"inner\")\n",
    "    .with_columns(\n",
    "        (\n",
    "            pl.col(\"Available Capacity\") - pl.col(\"Capacity Curtailed\").sum().over(\"datetime\") * pl.col(\"Max Capacity\") / pl.col(\"Max Capacity\").sum().over(\"datetime\")\n",
    "        )\n",
    "        .alias(\"Prorrata\")\n",
    "    )\n",
    ")\n",
    "data"
   ]
  },
  {
   "cell_type": "code",
   "execution_count": 10,
   "metadata": {},
   "outputs": [
    {
     "data": {
      "text/html": [
       "<div><style>\n",
       ".dataframe > thead > tr,\n",
       ".dataframe > tbody > tr {\n",
       "  text-align: right;\n",
       "  white-space: pre-wrap;\n",
       "}\n",
       "</style>\n",
       "<small>shape: (9, 9)</small><table border=\"1\" class=\"dataframe\"><thead><tr><th>describe</th><th>node</th><th>datetime</th><th>generator</th><th>Generation</th><th>Capacity Curtailed</th><th>Max Capacity</th><th>Available Capacity</th><th>Prorrata</th></tr><tr><td>str</td><td>str</td><td>str</td><td>str</td><td>f64</td><td>f64</td><td>f64</td><td>f64</td><td>f64</td></tr></thead><tbody><tr><td>&quot;count&quot;</td><td>&quot;823&quot;</td><td>&quot;823&quot;</td><td>&quot;823&quot;</td><td>823.0</td><td>823.0</td><td>823.0</td><td>823.0</td><td>823.0</td></tr><tr><td>&quot;null_count&quot;</td><td>&quot;0&quot;</td><td>&quot;0&quot;</td><td>&quot;0&quot;</td><td>0.0</td><td>0.0</td><td>0.0</td><td>0.0</td><td>0.0</td></tr><tr><td>&quot;mean&quot;</td><td>null</td><td>null</td><td>null</td><td>46.685793</td><td>9.270782</td><td>82.792001</td><td>55.956575</td><td>9.270782</td></tr><tr><td>&quot;std&quot;</td><td>null</td><td>null</td><td>null</td><td>65.275302</td><td>25.71281</td><td>77.776877</td><td>64.189668</td><td>11.234227</td></tr><tr><td>&quot;min&quot;</td><td>&quot;AJahuel220&quot;</td><td>&quot;2024-01-11 09:…</td><td>&quot;ABANICO&quot;</td><td>0.0</td><td>0.0</td><td>0.3</td><td>0.003134</td><td>0.002224</td></tr><tr><td>&quot;25%&quot;</td><td>null</td><td>null</td><td>null</td><td>1.1</td><td>0.0</td><td>10.5</td><td>6.4</td><td>0.668745</td></tr><tr><td>&quot;50%&quot;</td><td>null</td><td>null</td><td>null</td><td>14.5</td><td>0.0</td><td>69.0</td><td>37.88</td><td>5.03536</td></tr><tr><td>&quot;75%&quot;</td><td>null</td><td>null</td><td>null</td><td>74.68</td><td>0.0</td><td>115.5</td><td>87.3</td><td>14.913013</td></tr><tr><td>&quot;max&quot;</td><td>&quot;Tinguiririca15…</td><td>&quot;2024-01-11 18:…</td><td>&quot;VALLE_ESCONDID…</td><td>366.746</td><td>164.9</td><td>381.0</td><td>366.746</td><td>79.689762</td></tr></tbody></table></div>"
      ],
      "text/plain": [
       "shape: (9, 9)\n",
       "┌───────────┬───────────┬───────────┬───────────┬───┬───────────┬───────────┬───────────┬──────────┐\n",
       "│ describe  ┆ node      ┆ datetime  ┆ generator ┆ … ┆ Capacity  ┆ Max       ┆ Available ┆ Prorrata │\n",
       "│ ---       ┆ ---       ┆ ---       ┆ ---       ┆   ┆ Curtailed ┆ Capacity  ┆ Capacity  ┆ ---      │\n",
       "│ str       ┆ str       ┆ str       ┆ str       ┆   ┆ ---       ┆ ---       ┆ ---       ┆ f64      │\n",
       "│           ┆           ┆           ┆           ┆   ┆ f64       ┆ f64       ┆ f64       ┆          │\n",
       "╞═══════════╪═══════════╪═══════════╪═══════════╪═══╪═══════════╪═══════════╪═══════════╪══════════╡\n",
       "│ count     ┆ 823       ┆ 823       ┆ 823       ┆ … ┆ 823.0     ┆ 823.0     ┆ 823.0     ┆ 823.0    │\n",
       "│ null_coun ┆ 0         ┆ 0         ┆ 0         ┆ … ┆ 0.0       ┆ 0.0       ┆ 0.0       ┆ 0.0      │\n",
       "│ t         ┆           ┆           ┆           ┆   ┆           ┆           ┆           ┆          │\n",
       "│ mean      ┆ null      ┆ null      ┆ null      ┆ … ┆ 9.270782  ┆ 82.792001 ┆ 55.956575 ┆ 9.270782 │\n",
       "│ std       ┆ null      ┆ null      ┆ null      ┆ … ┆ 25.71281  ┆ 77.776877 ┆ 64.189668 ┆ 11.23422 │\n",
       "│           ┆           ┆           ┆           ┆   ┆           ┆           ┆           ┆ 7        │\n",
       "│ min       ┆ AJahuel22 ┆ 2024-01-1 ┆ ABANICO   ┆ … ┆ 0.0       ┆ 0.3       ┆ 0.003134  ┆ 0.002224 │\n",
       "│           ┆ 0         ┆ 1         ┆           ┆   ┆           ┆           ┆           ┆          │\n",
       "│           ┆           ┆ 09:00:00  ┆           ┆   ┆           ┆           ┆           ┆          │\n",
       "│ 25%       ┆ null      ┆ null      ┆ null      ┆ … ┆ 0.0       ┆ 10.5      ┆ 6.4       ┆ 0.668745 │\n",
       "│ 50%       ┆ null      ┆ null      ┆ null      ┆ … ┆ 0.0       ┆ 69.0      ┆ 37.88     ┆ 5.03536  │\n",
       "│ 75%       ┆ null      ┆ null      ┆ null      ┆ … ┆ 0.0       ┆ 115.5     ┆ 87.3      ┆ 14.91301 │\n",
       "│           ┆           ┆           ┆           ┆   ┆           ┆           ┆           ┆ 3        │\n",
       "│ max       ┆ Tinguirir ┆ 2024-01-1 ┆ VALLE_ESC ┆ … ┆ 164.9     ┆ 381.0     ┆ 366.746   ┆ 79.68976 │\n",
       "│           ┆ ica154    ┆ 1         ┆ ONDIDO_FV ┆   ┆           ┆           ┆           ┆ 2        │\n",
       "│           ┆           ┆ 18:00:00  ┆           ┆   ┆           ┆           ┆           ┆          │\n",
       "└───────────┴───────────┴───────────┴───────────┴───┴───────────┴───────────┴───────────┴──────────┘"
      ]
     },
     "execution_count": 10,
     "metadata": {},
     "output_type": "execute_result"
    }
   ],
   "source": [
    "(\n",
    "    data\n",
    "    .with_columns(\n",
    "        pl.when(\n",
    "            (\n",
    "            pl.col(\"Capacity Curtailed\").sum().over(\"datetime\") * pl.col(\"Max Capacity\") / pl.col(\"Max Capacity\").sum().over(\"datetime\")\n",
    "            ) > 0)\n",
    "        .then(\n",
    "            pl.col(\"Capacity Curtailed\").sum().over(\"datetime\") * pl.col(\"Max Capacity\") / pl.col(\"Max Capacity\").sum().over(\"datetime\")\n",
    "        )\n",
    "        .otherwise(0)\n",
    "        .alias(\"Prorrata\")\n",
    "    )\n",
    "    .describe()\n",
    ")"
   ]
  },
  {
   "cell_type": "code",
   "execution_count": 32,
   "metadata": {},
   "outputs": [
    {
     "data": {
      "text/html": [
       "<div><style>\n",
       ".dataframe > thead > tr,\n",
       ".dataframe > tbody > tr {\n",
       "  text-align: right;\n",
       "  white-space: pre-wrap;\n",
       "}\n",
       "</style>\n",
       "<small>shape: (10, 5)</small><table border=\"1\" class=\"dataframe\"><thead><tr><th>datetime</th><th>Total_Gen</th><th>Total_Gen_Prorrata</th><th>Min_Gen_Prorrata</th><th>Sum_Gen_Prorrata</th></tr><tr><td>datetime[μs]</td><td>f64</td><td>f64</td><td>f64</td><td>f64</td></tr></thead><tbody><tr><td>2024-01-11 09:00:00</td><td>5192.164816</td><td>5192.164816</td><td>-1.230249</td><td>-3.299601</td></tr><tr><td>2024-01-11 10:00:00</td><td>1267.639286</td><td>1267.639286</td><td>-16.156788</td><td>-16.156788</td></tr><tr><td>2024-01-11 11:00:00</td><td>3819.634563</td><td>3819.634563</td><td>-16.384868</td><td>-86.381356</td></tr><tr><td>2024-01-11 12:00:00</td><td>3940.779408</td><td>3940.779408</td><td>-16.199442</td><td>-64.569057</td></tr><tr><td>2024-01-11 13:00:00</td><td>3939.977646</td><td>3939.977646</td><td>-17.370719</td><td>-45.534315</td></tr><tr><td>2024-01-11 14:00:00</td><td>3917.010157</td><td>3917.010157</td><td>-16.555661</td><td>-41.623835</td></tr><tr><td>2024-01-11 15:00:00</td><td>4154.263024</td><td>4154.263024</td><td>-5.531484</td><td>-9.02907</td></tr><tr><td>2024-01-11 16:00:00</td><td>4034.743655</td><td>4034.743655</td><td>-10.298306</td><td>-14.560168</td></tr><tr><td>2024-01-11 17:00:00</td><td>4063.363033</td><td>4063.363033</td><td>-2.506424</td><td>-6.225082</td></tr><tr><td>2024-01-11 18:00:00</td><td>4092.832172</td><td>4092.832172</td><td>-0.140733</td><td>-0.249849</td></tr></tbody></table></div>"
      ],
      "text/plain": [
       "shape: (10, 5)\n",
       "┌─────────────────────┬─────────────┬────────────────────┬──────────────────┬──────────────────┐\n",
       "│ datetime            ┆ Total_Gen   ┆ Total_Gen_Prorrata ┆ Min_Gen_Prorrata ┆ Sum_Gen_Prorrata │\n",
       "│ ---                 ┆ ---         ┆ ---                ┆ ---              ┆ ---              │\n",
       "│ datetime[μs]        ┆ f64         ┆ f64                ┆ f64              ┆ f64              │\n",
       "╞═════════════════════╪═════════════╪════════════════════╪══════════════════╪══════════════════╡\n",
       "│ 2024-01-11 09:00:00 ┆ 5192.164816 ┆ 5192.164816        ┆ -1.230249        ┆ -3.299601        │\n",
       "│ 2024-01-11 10:00:00 ┆ 1267.639286 ┆ 1267.639286        ┆ -16.156788       ┆ -16.156788       │\n",
       "│ 2024-01-11 11:00:00 ┆ 3819.634563 ┆ 3819.634563        ┆ -16.384868       ┆ -86.381356       │\n",
       "│ 2024-01-11 12:00:00 ┆ 3940.779408 ┆ 3940.779408        ┆ -16.199442       ┆ -64.569057       │\n",
       "│ …                   ┆ …           ┆ …                  ┆ …                ┆ …                │\n",
       "│ 2024-01-11 15:00:00 ┆ 4154.263024 ┆ 4154.263024        ┆ -5.531484        ┆ -9.02907         │\n",
       "│ 2024-01-11 16:00:00 ┆ 4034.743655 ┆ 4034.743655        ┆ -10.298306       ┆ -14.560168       │\n",
       "│ 2024-01-11 17:00:00 ┆ 4063.363033 ┆ 4063.363033        ┆ -2.506424        ┆ -6.225082        │\n",
       "│ 2024-01-11 18:00:00 ┆ 4092.832172 ┆ 4092.832172        ┆ -0.140733        ┆ -0.249849        │\n",
       "└─────────────────────┴─────────────┴────────────────────┴──────────────────┴──────────────────┘"
      ]
     },
     "execution_count": 32,
     "metadata": {},
     "output_type": "execute_result"
    }
   ],
   "source": [
    "(\n",
    "    data\n",
    "    .sort(by=\"datetime\")\n",
    "    .group_by(\"datetime\")\n",
    "    .agg(\n",
    "        #pl.col(\"Prorrata_Curt\").sum().alias(\"Total_Curatiled\"),\n",
    "        pl.col(\"Generation\").sum().alias(\"Total_Gen\"),\n",
    "        pl.col(\"Prorrata\").sum().alias(\"Total_Gen_Prorrata\"),\n",
    "        pl.col(\"Prorrata\").min().alias(\"Min_Gen_Prorrata\"),\n",
    "        pl.col(\"Prorrata\").filter(pl.col(\"Prorrata\").lt(0)).sum().alias(\"Sum_Gen_Prorrata\"),\n",
    "    )\n",
    ")"
   ]
  }
 ],
 "metadata": {
  "kernelspec": {
   "display_name": ".venv",
   "language": "python",
   "name": "python3"
  },
  "language_info": {
   "codemirror_mode": {
    "name": "ipython",
    "version": 3
   },
   "file_extension": ".py",
   "mimetype": "text/x-python",
   "name": "python",
   "nbconvert_exporter": "python",
   "pygments_lexer": "ipython3",
   "version": "3.11.7"
  }
 },
 "nbformat": 4,
 "nbformat_minor": 2
}
