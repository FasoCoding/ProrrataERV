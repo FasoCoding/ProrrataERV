{
 "cells": [
  {
   "cell_type": "code",
   "execution_count": null,
   "metadata": {},
   "outputs": [],
   "source": [
    "import polars as pl\n",
    "import datetime as dt\n",
    "\n",
    "from pathlib import Path\n",
    "from sqlalchemy import (\n",
    "    engine,\n",
    "    create_engine,\n",
    "    inspect\n",
    ")\n",
    "\n",
    "# fecha_prg = dt.date(\n",
    "#     year=2023,\n",
    "#     month=12,\n",
    "#     day=27\n",
    "# )\n",
    "# \n",
    "# path_prg = Path(f\"R:\\{fecha_prg.year}\\{fecha_prg:%Y%m}\\Prg {fecha_prg:%Y%m%d}\\Antecedentes\\Model PRGdia_Full_Definitivo Solution.accdb\")\n",
    "path_prg = Path(r\"../data/Model PRGdia_Full_Definitivo Solution.accdb\").absolute()\n",
    "\n",
    "if not path_prg.exists():\n",
    "    raise ValueError(f\"Path: {path_prg} does not exists.\")\n",
    "\n",
    "connection_string = (\n",
    "    r\"DRIVER={Microsoft Access Driver (*.mdb, *.accdb)};\"\n",
    "    rf\"DBQ={path_prg.as_posix()};\"\n",
    "    r\"ExtendedAnsiSQL=1;\"\n",
    ")\n",
    "connection_url = engine.URL.create(\n",
    "    \"access+pyodbc\",\n",
    "    query={\"odbc_connect\": connection_string}\n",
    ")\n",
    "\n",
    "prg_engine = create_engine(connection_url)\n",
    "tables = inspect(prg_engine).get_table_names()\n",
    "\n",
    "for table in tables:\n",
    "    print(f\"trabajando en tabla: {table}...\")\n",
    "    df = pl.read_database(query=f\"SELECT * FROM {table}\", connection=prg_engine)\n",
    "\n",
    "prg_engine.dispose()"
   ]
  }
 ],
 "metadata": {
  "kernelspec": {
   "display_name": ".venv",
   "language": "python",
   "name": "python3"
  },
  "language_info": {
   "name": "python",
   "version": "3.11.7"
  }
 },
 "nbformat": 4,
 "nbformat_minor": 2
}
