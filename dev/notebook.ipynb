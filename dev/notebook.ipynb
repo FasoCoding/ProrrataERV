{
 "cells": [
  {
   "cell_type": "markdown",
   "metadata": {},
   "source": [
    "# Prorrata ERNC\n",
    "Este programa tiene por objetivo realizar el re-calculo de curtailment para el sistema, en base a metodología propuesta por la NTCyO."
   ]
  },
  {
   "cell_type": "markdown",
   "metadata": {},
   "source": [
    "## LECTURA DE DATOS\n",
    "Los datos deben ser extraidos desde el accdb en potencia neta (no por la potencia, sino por los marginales no truncados). La lista de datos que se deben extraer son:\n",
    "1. Generación de cada central.\n",
    "2. Perfil de generación de cada central.\n",
    "3. Barra asociada a cada central.\n",
    "4. Costos marginales para cada.\n",
    "5. Curtailment por central (quizas por barra es suficiente).\n",
    "6. Potencia máxima.\n",
    "7. Generación disponible.\n",
    "8. Estado de operación."
   ]
  },
  {
   "cell_type": "code",
   "execution_count": 1,
   "metadata": {},
   "outputs": [
    {
     "name": "stdout",
     "output_type": "stream",
     "text": [
      "trabajando en tabla: t_attribute...\n",
      "trabajando en tabla: t_attribute_data...\n",
      "trabajando en tabla: t_band...\n",
      "trabajando en tabla: t_category...\n",
      "trabajando en tabla: t_class...\n",
      "trabajando en tabla: t_class_group...\n",
      "trabajando en tabla: t_collection...\n",
      "trabajando en tabla: t_config...\n",
      "trabajando en tabla: t_custom_column...\n",
      "trabajando en tabla: t_data_0...\n",
      "trabajando en tabla: t_data_1...\n",
      "trabajando en tabla: t_data_2...\n",
      "trabajando en tabla: t_data_3...\n",
      "trabajando en tabla: t_data_4...\n",
      "trabajando en tabla: t_data_6...\n",
      "trabajando en tabla: t_data_7...\n",
      "trabajando en tabla: t_data_current...\n",
      "trabajando en tabla: t_key...\n",
      "trabajando en tabla: t_key_index...\n",
      "trabajando en tabla: t_membership...\n",
      "trabajando en tabla: t_memo_object...\n",
      "trabajando en tabla: t_model...\n",
      "trabajando en tabla: t_object...\n",
      "trabajando en tabla: t_object_meta...\n",
      "trabajando en tabla: t_period_0...\n",
      "trabajando en tabla: t_period_1...\n",
      "trabajando en tabla: t_period_2...\n",
      "trabajando en tabla: t_period_3...\n",
      "trabajando en tabla: t_period_4...\n",
      "trabajando en tabla: t_period_6...\n",
      "trabajando en tabla: t_period_7...\n",
      "trabajando en tabla: t_phase_1...\n",
      "trabajando en tabla: t_phase_2...\n",
      "trabajando en tabla: t_phase_3...\n",
      "trabajando en tabla: t_phase_4...\n",
      "trabajando en tabla: t_property...\n",
      "trabajando en tabla: t_sample...\n",
      "trabajando en tabla: t_sample_weight...\n",
      "trabajando en tabla: t_timeslice...\n",
      "trabajando en tabla: t_unit...\n"
     ]
    }
   ],
   "source": [
    "import polars as pl\n",
    "#import datetime as dt\n",
    "\n",
    "from pathlib import Path\n",
    "from sqlalchemy.exc import SQLAlchemyError\n",
    "from sqlalchemy import (\n",
    "    engine,\n",
    "    create_engine,\n",
    "    inspect\n",
    ")\n",
    "\n",
    "# fecha_prg = dt.date(\n",
    "#     year=2023,\n",
    "#     month=12,\n",
    "#     day=27\n",
    "# )\n",
    "# \n",
    "# path_prg = Path(f\"R:\\{fecha_prg.year}\\{fecha_prg:%Y%m}\\Prg {fecha_prg:%Y%m%d}\\Antecedentes\\Model PRGdia_Full_Definitivo Solution.accdb\")\n",
    "path_prg = Path(r\"../data/Model PRGdia_Full_Definitivo Solution.accdb\").absolute()\n",
    "\n",
    "if not path_prg.exists():\n",
    "    raise ValueError(f\"Path: {path_prg} does not exists.\")\n",
    "\n",
    "connection_string = (\n",
    "    r\"DRIVER={Microsoft Access Driver (*.mdb, *.accdb)};\"\n",
    "    rf\"DBQ={path_prg.as_posix()};\"\n",
    "    r\"ExtendedAnsiSQL=1;\"\n",
    ")\n",
    "connection_url = engine.URL.create(\n",
    "    \"access+pyodbc\",\n",
    "    query={\"odbc_connect\": connection_string}\n",
    ")\n",
    "\n",
    "try:\n",
    "    prg_engine = create_engine(connection_url)\n",
    "    tables = inspect(prg_engine).get_table_names()\n",
    "\n",
    "    for table in tables:\n",
    "        print(f\"trabajando en tabla: {table}...\")\n",
    "        (\n",
    "            pl.read_database(query=f\"SELECT * FROM {table}\", connection=prg_engine)\n",
    "            .write_parquet(f\"../data/tables/{table}.parquet\")\n",
    "        )\n",
    "\n",
    "except SQLAlchemyError as e:\n",
    "    print(f\"Error: {e}\")\n",
    "\n",
    "finally:\n",
    "    prg_engine.dispose()"
   ]
  },
  {
   "cell_type": "code",
   "execution_count": 13,
   "metadata": {},
   "outputs": [
    {
     "data": {
      "text/html": [
       "<div><style>\n",
       ".dataframe > thead > tr,\n",
       ".dataframe > tbody > tr {\n",
       "  text-align: right;\n",
       "  white-space: pre-wrap;\n",
       "}\n",
       "</style>\n",
       "<small>shape: (5, 3)</small><table border=\"1\" class=\"dataframe\"><thead><tr><th>key_id</th><th>period_id</th><th>value</th></tr><tr><td>i64</td><td>i64</td><td>f64</td></tr></thead><tbody><tr><td>1</td><td>1</td><td>96.955687</td></tr><tr><td>1</td><td>2</td><td>0.0</td></tr><tr><td>1</td><td>3</td><td>0.0</td></tr><tr><td>1</td><td>4</td><td>0.0</td></tr><tr><td>1</td><td>5</td><td>0.0</td></tr></tbody></table></div>"
      ],
      "text/plain": [
       "shape: (5, 3)\n",
       "┌────────┬───────────┬───────────┐\n",
       "│ key_id ┆ period_id ┆ value     │\n",
       "│ ---    ┆ ---       ┆ ---       │\n",
       "│ i64    ┆ i64       ┆ f64       │\n",
       "╞════════╪═══════════╪═══════════╡\n",
       "│ 1      ┆ 1         ┆ 96.955687 │\n",
       "│ 1      ┆ 2         ┆ 0.0       │\n",
       "│ 1      ┆ 3         ┆ 0.0       │\n",
       "│ 1      ┆ 4         ┆ 0.0       │\n",
       "│ 1      ┆ 5         ┆ 0.0       │\n",
       "└────────┴───────────┴───────────┘"
      ]
     },
     "execution_count": 13,
     "metadata": {},
     "output_type": "execute_result"
    }
   ],
   "source": [
    "data_0 = pl.read_database(query=\"SELECT * FROM t_data_0\", connection=prg_engine)\n",
    "data_0.head()"
   ]
  },
  {
   "cell_type": "code",
   "execution_count": 14,
   "metadata": {},
   "outputs": [],
   "source": [
    "prg_engine.connect().close()"
   ]
  }
 ],
 "metadata": {
  "kernelspec": {
   "display_name": ".venv",
   "language": "python",
   "name": "python3"
  },
  "language_info": {
   "codemirror_mode": {
    "name": "ipython",
    "version": 3
   },
   "file_extension": ".py",
   "mimetype": "text/x-python",
   "name": "python",
   "nbconvert_exporter": "python",
   "pygments_lexer": "ipython3",
   "version": "3.11.7"
  }
 },
 "nbformat": 4,
 "nbformat_minor": 2
}
