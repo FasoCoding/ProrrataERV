{
 "cells": [
  {
   "cell_type": "markdown",
   "metadata": {},
   "source": [
    "# Prorrata ERNC\n",
    "Este programa tiene por objetivo realizar el re-calculo de curtailment para el sistema, en base a metodología propuesta por la NTCyO."
   ]
  },
  {
   "cell_type": "markdown",
   "metadata": {},
   "source": [
    "## LECTURA DE DATOS\n",
    "Los datos deben ser extraidos desde el accdb en potencia neta (no por la potencia, sino por los marginales no truncados). La lista de datos que se deben extraer son:\n",
    "1. Generación de cada central.\n",
    "2. Perfil de generación de cada central.\n",
    "3. Barra asociada a cada central.\n",
    "4. Costos marginales para cada.\n",
    "5. Curtailment por central (quizas por barra es suficiente).\n",
    "6. Potencia máxima.\n",
    "7. Generación disponible.\n",
    "8. Estado de operación.\n",
    "\n",
    "Para la lectura, a modo de determinar la mejor query al sistema, sin tener que lidiar con los problemas de MS Access, se cargan las tablas en DuckDB y se utiliza jupysql para probar SQL."
   ]
  },
  {
   "cell_type": "code",
   "execution_count": 81,
   "metadata": {},
   "outputs": [
    {
     "name": "stdout",
     "output_type": "stream",
     "text": [
      "trabajando en tabla: t_attribute...\n",
      "trabajando en tabla: t_attribute_data...\n",
      "trabajando en tabla: t_band...\n",
      "trabajando en tabla: t_category...\n",
      "trabajando en tabla: t_class...\n",
      "trabajando en tabla: t_class_group...\n",
      "trabajando en tabla: t_collection...\n",
      "trabajando en tabla: t_config...\n",
      "trabajando en tabla: t_custom_column...\n",
      "trabajando en tabla: t_data_0...\n",
      "trabajando en tabla: t_data_1...\n",
      "trabajando en tabla: t_data_2...\n",
      "trabajando en tabla: t_data_3...\n",
      "trabajando en tabla: t_data_4...\n",
      "trabajando en tabla: t_data_6...\n",
      "trabajando en tabla: t_data_7...\n",
      "trabajando en tabla: t_data_current...\n",
      "trabajando en tabla: t_key...\n",
      "trabajando en tabla: t_key_index...\n",
      "trabajando en tabla: t_membership...\n",
      "trabajando en tabla: t_memo_object...\n",
      "trabajando en tabla: t_model...\n",
      "trabajando en tabla: t_object...\n",
      "trabajando en tabla: t_object_meta...\n",
      "trabajando en tabla: t_period_0...\n",
      "trabajando en tabla: t_period_1...\n",
      "trabajando en tabla: t_period_2...\n",
      "trabajando en tabla: t_period_3...\n",
      "trabajando en tabla: t_period_4...\n",
      "trabajando en tabla: t_period_6...\n",
      "trabajando en tabla: t_period_7...\n",
      "trabajando en tabla: t_phase_1...\n",
      "trabajando en tabla: t_phase_2...\n",
      "trabajando en tabla: t_phase_3...\n",
      "trabajando en tabla: t_phase_4...\n",
      "trabajando en tabla: t_property...\n",
      "trabajando en tabla: t_sample...\n",
      "trabajando en tabla: t_sample_weight...\n",
      "trabajando en tabla: t_timeslice...\n",
      "trabajando en tabla: t_unit...\n"
     ]
    }
   ],
   "source": [
    "import polars as pl\n",
    "import duckdb as duck\n",
    "\n",
    "from pathlib import Path\n",
    "from sqlalchemy.exc import SQLAlchemyError\n",
    "from sqlalchemy import (\n",
    "    engine,\n",
    "    create_engine,\n",
    "    inspect\n",
    ")\n",
    "\n",
    "path_prg = Path(r\"../data/Model PRGdia_Full_Definitivo Solution.accdb\").absolute()\n",
    "\n",
    "if not path_prg.exists():\n",
    "    raise ValueError(f\"Path: {path_prg} does not exists.\")\n",
    "\n",
    "connection_string = (\n",
    "    r\"DRIVER={Microsoft Access Driver (*.mdb, *.accdb)};\"\n",
    "    rf\"DBQ={path_prg.as_posix()};\"\n",
    "    r\"ExtendedAnsiSQL=1;\"\n",
    ")\n",
    "connection_url = engine.URL.create(\n",
    "    \"access+pyodbc\",\n",
    "    query={\"odbc_connect\": connection_string}\n",
    ")\n",
    "\n",
    "try:\n",
    "    prg_engine = create_engine(connection_url)\n",
    "    tables = inspect(prg_engine).get_table_names()\n",
    "\n",
    "    conn = duck.connect(\"PCP.duckdb\")\n",
    "    #conn.execute(\"CREATE SCHEMA IF NOT EXISTS bronze\")\n",
    "\n",
    "    for table in tables:\n",
    "        print(f\"trabajando en tabla: {table}...\")\n",
    "        df = pl.read_database(query=f\"SELECT * FROM {table}\", connection=prg_engine)\n",
    "        conn.execute(f\"CREATE OR REPLACE TABLE {table} AS SELECT * FROM df\")\n",
    "\n",
    "except SQLAlchemyError as e:\n",
    "    print(f\"Error: {e}\")\n",
    "\n",
    "finally:\n",
    "    conn.close()\n",
    "    prg_engine.dispose()"
   ]
  },
  {
   "cell_type": "markdown",
   "metadata": {},
   "source": [
    "## REVISIÓN DUCKDB\n",
    "Con la data carga en la base de datos, empezamos a mirar como armar la mejor query"
   ]
  },
  {
   "cell_type": "code",
   "execution_count": 82,
   "metadata": {},
   "outputs": [
    {
     "name": "stdout",
     "output_type": "stream",
     "text": [
      "The sql extension is already loaded. To reload it, use:\n",
      "  %reload_ext sql\n"
     ]
    }
   ],
   "source": [
    "# Esto es para carga la extensión y leer la base de datos.\n",
    "import duckdb\n",
    "\n",
    "conn_pcp = duckdb.connect(\"pcp.duckdb\")\n",
    "\n",
    "# load de la extensión para sql\n",
    "%load_ext sql\n",
    "%sql conn_pcp --alias duck"
   ]
  },
  {
   "cell_type": "code",
   "execution_count": 88,
   "metadata": {},
   "outputs": [],
   "source": [
    "# Esto es para cerrar las conexiones, usarlo al terminar de revisar\n",
    "%sql --close duck\n",
    "conn.close()"
   ]
  },
  {
   "cell_type": "markdown",
   "metadata": {},
   "source": [
    "Clasica query para sacar la generación, levemente modificada para sacar las otras propiedades de una, no es necesario tener una query por dato."
   ]
  },
  {
   "cell_type": "code",
   "execution_count": 87,
   "metadata": {},
   "outputs": [
    {
     "data": {
      "text/html": [
       "<span style=\"None\">Running query in &#x27;duck&#x27;</span>"
      ],
      "text/plain": [
       "Running query in 'duck'"
      ]
     },
     "metadata": {},
     "output_type": "display_data"
    },
    {
     "data": {
      "text/html": [
       "<table>\n",
       "    <thead>\n",
       "        <tr>\n",
       "            <th>generator</th>\n",
       "            <th>property</th>\n",
       "            <th>datetime</th>\n",
       "            <th>data_key</th>\n",
       "            <th>data_period</th>\n",
       "            <th>value</th>\n",
       "        </tr>\n",
       "    </thead>\n",
       "    <tbody>\n",
       "        <tr>\n",
       "            <td>EL_MAITEN_EO</td>\n",
       "            <td>Max Capacity</td>\n",
       "            <td>2024-01-11 00:00:00</td>\n",
       "            <td>10428</td>\n",
       "            <td>1</td>\n",
       "            <td>9.0</td>\n",
       "        </tr>\n",
       "        <tr>\n",
       "            <td>EL_MAITEN_EO</td>\n",
       "            <td>Max Capacity</td>\n",
       "            <td>2024-01-11 01:00:00</td>\n",
       "            <td>10428</td>\n",
       "            <td>2</td>\n",
       "            <td>9.0</td>\n",
       "        </tr>\n",
       "        <tr>\n",
       "            <td>EL_MAITEN_EO</td>\n",
       "            <td>Max Capacity</td>\n",
       "            <td>2024-01-11 02:00:00</td>\n",
       "            <td>10428</td>\n",
       "            <td>3</td>\n",
       "            <td>9.0</td>\n",
       "        </tr>\n",
       "        <tr>\n",
       "            <td>EL_MAITEN_EO</td>\n",
       "            <td>Max Capacity</td>\n",
       "            <td>2024-01-11 03:00:00</td>\n",
       "            <td>10428</td>\n",
       "            <td>4</td>\n",
       "            <td>9.0</td>\n",
       "        </tr>\n",
       "        <tr>\n",
       "            <td>EL_MAITEN_EO</td>\n",
       "            <td>Max Capacity</td>\n",
       "            <td>2024-01-11 04:00:00</td>\n",
       "            <td>10428</td>\n",
       "            <td>5</td>\n",
       "            <td>9.0</td>\n",
       "        </tr>\n",
       "        <tr>\n",
       "            <td>EL_MAITEN_EO</td>\n",
       "            <td>Max Capacity</td>\n",
       "            <td>2024-01-11 05:00:00</td>\n",
       "            <td>10428</td>\n",
       "            <td>6</td>\n",
       "            <td>9.0</td>\n",
       "        </tr>\n",
       "        <tr>\n",
       "            <td>EL_MAITEN_EO</td>\n",
       "            <td>Max Capacity</td>\n",
       "            <td>2024-01-11 06:00:00</td>\n",
       "            <td>10428</td>\n",
       "            <td>7</td>\n",
       "            <td>9.0</td>\n",
       "        </tr>\n",
       "        <tr>\n",
       "            <td>EL_MAITEN_EO</td>\n",
       "            <td>Max Capacity</td>\n",
       "            <td>2024-01-11 07:00:00</td>\n",
       "            <td>10428</td>\n",
       "            <td>8</td>\n",
       "            <td>9.0</td>\n",
       "        </tr>\n",
       "        <tr>\n",
       "            <td>EL_MAITEN_EO</td>\n",
       "            <td>Max Capacity</td>\n",
       "            <td>2024-01-11 08:00:00</td>\n",
       "            <td>10428</td>\n",
       "            <td>9</td>\n",
       "            <td>9.0</td>\n",
       "        </tr>\n",
       "        <tr>\n",
       "            <td>EL_MAITEN_EO</td>\n",
       "            <td>Max Capacity</td>\n",
       "            <td>2024-01-11 09:00:00</td>\n",
       "            <td>10428</td>\n",
       "            <td>10</td>\n",
       "            <td>9.0</td>\n",
       "        </tr>\n",
       "    </tbody>\n",
       "</table>\n",
       "<span style=\"font-style:italic;text-align:center;\">Truncated to <a href=\"https://jupysql.ploomber.io/en/latest/api/configuration.html#displaylimit\">displaylimit</a> of 10.</span>"
      ],
      "text/plain": [
       "+--------------+--------------+---------------------+----------+-------------+-------+\n",
       "|  generator   |   property   |       datetime      | data_key | data_period | value |\n",
       "+--------------+--------------+---------------------+----------+-------------+-------+\n",
       "| EL_MAITEN_EO | Max Capacity | 2024-01-11 00:00:00 |  10428   |      1      |  9.0  |\n",
       "| EL_MAITEN_EO | Max Capacity | 2024-01-11 01:00:00 |  10428   |      2      |  9.0  |\n",
       "| EL_MAITEN_EO | Max Capacity | 2024-01-11 02:00:00 |  10428   |      3      |  9.0  |\n",
       "| EL_MAITEN_EO | Max Capacity | 2024-01-11 03:00:00 |  10428   |      4      |  9.0  |\n",
       "| EL_MAITEN_EO | Max Capacity | 2024-01-11 04:00:00 |  10428   |      5      |  9.0  |\n",
       "| EL_MAITEN_EO | Max Capacity | 2024-01-11 05:00:00 |  10428   |      6      |  9.0  |\n",
       "| EL_MAITEN_EO | Max Capacity | 2024-01-11 06:00:00 |  10428   |      7      |  9.0  |\n",
       "| EL_MAITEN_EO | Max Capacity | 2024-01-11 07:00:00 |  10428   |      8      |  9.0  |\n",
       "| EL_MAITEN_EO | Max Capacity | 2024-01-11 08:00:00 |  10428   |      9      |  9.0  |\n",
       "| EL_MAITEN_EO | Max Capacity | 2024-01-11 09:00:00 |  10428   |      10     |  9.0  |\n",
       "+--------------+--------------+---------------------+----------+-------------+-------+\n",
       "Truncated to displaylimit of 10."
      ]
     },
     "execution_count": 87,
     "metadata": {},
     "output_type": "execute_result"
    }
   ],
   "source": [
    "%%sql\n",
    "SELECT \n",
    "    t_child.name AS generator,\n",
    "    t_property.name AS property,\n",
    "    t_period_0.datetime,\n",
    "    t_data_0.key_id AS data_key,\n",
    "    t_data_0.period_id AS data_period,\n",
    "    t_data_0.value,\n",
    "FROM ((((((((t_membership\n",
    "INNER JOIN t_collection ON t_membership.collection_id = t_collection.collection_id)\n",
    "INNER JOIN t_object AS t_parent ON t_membership.parent_object_id = t_parent.object_id)\n",
    "INNER JOIN t_object AS t_child ON t_membership.child_object_id = t_child.object_id)\n",
    "INNER JOIN t_property ON t_collection.collection_id = t_property.collection_id)\n",
    "INNER JOIN t_key ON t_membership.membership_id = t_key.membership_id AND t_property.property_id = t_key.property_id)\n",
    "INNER JOIN t_data_0 ON t_key.key_id = t_data_0.key_id)\n",
    "INNER JOIN t_phase_3 ON t_data_0.period_id = t_phase_3.period_id)\n",
    "INNER JOIN t_period_0 ON t_phase_3.interval_id = t_period_0.interval_id)\n",
    "INNER JOIN t_category ON t_child.category_id = t_category.category_id\n",
    "WHERE t_collection.collection_id = 1 AND t_property.property_id IN (1, 28, 200, 219) AND t_category.category_id IN (95, 96, 99, 100)"
   ]
  },
  {
   "cell_type": "markdown",
   "metadata": {},
   "source": [
    "Similar a la anterior, una query para sacar los datos con marginales negativos, no se necesita el resto."
   ]
  },
  {
   "cell_type": "code",
   "execution_count": 86,
   "metadata": {},
   "outputs": [
    {
     "data": {
      "text/html": [
       "<span style=\"None\">Running query in &#x27;duck&#x27;</span>"
      ],
      "text/plain": [
       "Running query in 'duck'"
      ]
     },
     "metadata": {},
     "output_type": "display_data"
    },
    {
     "data": {
      "text/html": [
       "<table>\n",
       "    <thead>\n",
       "        <tr>\n",
       "            <th>node</th>\n",
       "            <th>datetime</th>\n",
       "            <th>data_key</th>\n",
       "            <th>data_period</th>\n",
       "            <th>marginal_cost</th>\n",
       "        </tr>\n",
       "    </thead>\n",
       "    <tbody>\n",
       "        <tr>\n",
       "            <td>ElPenon110</td>\n",
       "            <td>2024-01-11 09:00:00</td>\n",
       "            <td>29602</td>\n",
       "            <td>10</td>\n",
       "            <td>-4.9626358250636</td>\n",
       "        </tr>\n",
       "        <tr>\n",
       "            <td>Francisco220</td>\n",
       "            <td>2024-01-11 10:00:00</td>\n",
       "            <td>29637</td>\n",
       "            <td>11</td>\n",
       "            <td>-1.86184524305163</td>\n",
       "        </tr>\n",
       "        <tr>\n",
       "            <td>ElPenon110</td>\n",
       "            <td>2024-01-11 11:00:00</td>\n",
       "            <td>29602</td>\n",
       "            <td>12</td>\n",
       "            <td>-0.216977423477753</td>\n",
       "        </tr>\n",
       "        <tr>\n",
       "            <td>ElPenon110</td>\n",
       "            <td>2024-01-11 12:00:00</td>\n",
       "            <td>29602</td>\n",
       "            <td>13</td>\n",
       "            <td>-0.263556176073346</td>\n",
       "        </tr>\n",
       "        <tr>\n",
       "            <td>ElPenon110</td>\n",
       "            <td>2024-01-11 13:00:00</td>\n",
       "            <td>29602</td>\n",
       "            <td>14</td>\n",
       "            <td>-0.215534871550137</td>\n",
       "        </tr>\n",
       "        <tr>\n",
       "            <td>ElPenon110</td>\n",
       "            <td>2024-01-11 14:00:00</td>\n",
       "            <td>29602</td>\n",
       "            <td>15</td>\n",
       "            <td>-0.19682939692686</td>\n",
       "        </tr>\n",
       "        <tr>\n",
       "            <td>ElPenon110</td>\n",
       "            <td>2024-01-11 15:00:00</td>\n",
       "            <td>29602</td>\n",
       "            <td>16</td>\n",
       "            <td>-0.183725258261048</td>\n",
       "        </tr>\n",
       "        <tr>\n",
       "            <td>ElPenon110</td>\n",
       "            <td>2024-01-11 16:00:00</td>\n",
       "            <td>29602</td>\n",
       "            <td>17</td>\n",
       "            <td>-0.174420067605554</td>\n",
       "        </tr>\n",
       "        <tr>\n",
       "            <td>ElPenon110</td>\n",
       "            <td>2024-01-11 17:00:00</td>\n",
       "            <td>29602</td>\n",
       "            <td>18</td>\n",
       "            <td>-0.156235601290092</td>\n",
       "        </tr>\n",
       "        <tr>\n",
       "            <td>ElPenon110</td>\n",
       "            <td>2024-01-11 18:00:00</td>\n",
       "            <td>29602</td>\n",
       "            <td>19</td>\n",
       "            <td>-0.289653561310179</td>\n",
       "        </tr>\n",
       "    </tbody>\n",
       "</table>\n",
       "<span style=\"font-style:italic;text-align:center;\">Truncated to <a href=\"https://jupysql.ploomber.io/en/latest/api/configuration.html#displaylimit\">displaylimit</a> of 10.</span>"
      ],
      "text/plain": [
       "+--------------+---------------------+----------+-------------+--------------------+\n",
       "|     node     |       datetime      | data_key | data_period |   marginal_cost    |\n",
       "+--------------+---------------------+----------+-------------+--------------------+\n",
       "|  ElPenon110  | 2024-01-11 09:00:00 |  29602   |      10     |  -4.9626358250636  |\n",
       "| Francisco220 | 2024-01-11 10:00:00 |  29637   |      11     | -1.86184524305163  |\n",
       "|  ElPenon110  | 2024-01-11 11:00:00 |  29602   |      12     | -0.216977423477753 |\n",
       "|  ElPenon110  | 2024-01-11 12:00:00 |  29602   |      13     | -0.263556176073346 |\n",
       "|  ElPenon110  | 2024-01-11 13:00:00 |  29602   |      14     | -0.215534871550137 |\n",
       "|  ElPenon110  | 2024-01-11 14:00:00 |  29602   |      15     | -0.19682939692686  |\n",
       "|  ElPenon110  | 2024-01-11 15:00:00 |  29602   |      16     | -0.183725258261048 |\n",
       "|  ElPenon110  | 2024-01-11 16:00:00 |  29602   |      17     | -0.174420067605554 |\n",
       "|  ElPenon110  | 2024-01-11 17:00:00 |  29602   |      18     | -0.156235601290092 |\n",
       "|  ElPenon110  | 2024-01-11 18:00:00 |  29602   |      19     | -0.289653561310179 |\n",
       "+--------------+---------------------+----------+-------------+--------------------+\n",
       "Truncated to displaylimit of 10."
      ]
     },
     "execution_count": 86,
     "metadata": {},
     "output_type": "execute_result"
    }
   ],
   "source": [
    "%%sql\n",
    "SELECT \n",
    "    t_child.name AS node,\n",
    "    t_period_0.datetime,\n",
    "    t_data_0.key_id AS data_key,\n",
    "    t_data_0.period_id AS data_period,\n",
    "    t_data_0.value AS marginal_cost,\n",
    "FROM ((((((((t_membership\n",
    "INNER JOIN t_collection ON t_membership.collection_id = t_collection.collection_id)\n",
    "INNER JOIN t_object AS t_parent ON t_membership.parent_object_id = t_parent.object_id)\n",
    "INNER JOIN t_object AS t_child ON t_membership.child_object_id = t_child.object_id)\n",
    "INNER JOIN t_property ON t_collection.collection_id = t_property.collection_id)\n",
    "INNER JOIN t_key ON t_membership.membership_id = t_key.membership_id AND t_property.property_id = t_key.property_id)\n",
    "INNER JOIN t_data_0 ON t_key.key_id = t_data_0.key_id)\n",
    "INNER JOIN t_phase_3 ON t_data_0.period_id = t_phase_3.period_id)\n",
    "INNER JOIN t_period_0 ON t_phase_3.interval_id = t_period_0.interval_id)\n",
    "INNER JOIN t_category ON t_child.category_id = t_category.category_id\n",
    "WHERE t_collection.collection_id = 245 AND t_property.property_id = 1233 AND t_data_0.value < 0"
   ]
  },
  {
   "cell_type": "markdown",
   "metadata": {},
   "source": [
    "Query bonita con CTE para extraer la relación entre barra y generador. Lamentablemente no hay CTE en MSACCESS por lo que se reformula en el .sql"
   ]
  },
  {
   "cell_type": "code",
   "execution_count": 85,
   "metadata": {},
   "outputs": [
    {
     "data": {
      "text/html": [
       "<span style=\"None\">Running query in &#x27;duck&#x27;</span>"
      ],
      "text/plain": [
       "Running query in 'duck'"
      ]
     },
     "metadata": {},
     "output_type": "display_data"
    },
    {
     "data": {
      "text/html": [
       "<table>\n",
       "    <thead>\n",
       "        <tr>\n",
       "            <th>node</th>\n",
       "            <th>generator</th>\n",
       "        </tr>\n",
       "    </thead>\n",
       "    <tbody>\n",
       "        <tr>\n",
       "            <td>Andes220</td>\n",
       "            <td>SOL_DEL_NORTE_ANDES_FV</td>\n",
       "        </tr>\n",
       "        <tr>\n",
       "            <td>Angamos220</td>\n",
       "            <td>TALLADO_FV</td>\n",
       "        </tr>\n",
       "        <tr>\n",
       "            <td>Arica066</td>\n",
       "            <td>PAMPA_CAMARONES_FV</td>\n",
       "        </tr>\n",
       "        <tr>\n",
       "            <td>Cachiyuyal220</td>\n",
       "            <td>PAMPA_SOLAR_NORTE_FV</td>\n",
       "        </tr>\n",
       "        <tr>\n",
       "            <td>Capricornio110</td>\n",
       "            <td>CAPRICORNIO_FV</td>\n",
       "        </tr>\n",
       "        <tr>\n",
       "            <td>Cardones110</td>\n",
       "            <td>VALLE_SOLAR_OESTE_FV</td>\n",
       "        </tr>\n",
       "        <tr>\n",
       "            <td>Cardones220</td>\n",
       "            <td>VALLE_ESCONDIDO_FV</td>\n",
       "        </tr>\n",
       "        <tr>\n",
       "            <td>Condores220</td>\n",
       "            <td>WILLKA_FV</td>\n",
       "        </tr>\n",
       "        <tr>\n",
       "            <td>CPinto220</td>\n",
       "            <td>SAN_ANDRES_FV</td>\n",
       "        </tr>\n",
       "        <tr>\n",
       "            <td>Crucero220</td>\n",
       "            <td>LAS_SALINAS_FV</td>\n",
       "        </tr>\n",
       "    </tbody>\n",
       "</table>\n",
       "<span style=\"font-style:italic;text-align:center;\">Truncated to <a href=\"https://jupysql.ploomber.io/en/latest/api/configuration.html#displaylimit\">displaylimit</a> of 10.</span>"
      ],
      "text/plain": [
       "+----------------+------------------------+\n",
       "|      node      |       generator        |\n",
       "+----------------+------------------------+\n",
       "|    Andes220    | SOL_DEL_NORTE_ANDES_FV |\n",
       "|   Angamos220   |       TALLADO_FV       |\n",
       "|    Arica066    |   PAMPA_CAMARONES_FV   |\n",
       "| Cachiyuyal220  |  PAMPA_SOLAR_NORTE_FV  |\n",
       "| Capricornio110 |     CAPRICORNIO_FV     |\n",
       "|  Cardones110   |  VALLE_SOLAR_OESTE_FV  |\n",
       "|  Cardones220   |   VALLE_ESCONDIDO_FV   |\n",
       "|  Condores220   |       WILLKA_FV        |\n",
       "|   CPinto220    |     SAN_ANDRES_FV      |\n",
       "|   Crucero220   |     LAS_SALINAS_FV     |\n",
       "+----------------+------------------------+\n",
       "Truncated to displaylimit of 10."
      ]
     },
     "execution_count": 85,
     "metadata": {},
     "output_type": "execute_result"
    }
   ],
   "source": [
    "%%sql\n",
    "WITH node_obj AS (\n",
    "    SELECT \n",
    "        t_object.object_id AS node_id,\n",
    "        t_object.name AS node,\n",
    "    FROM t_object\n",
    "    INNER JOIN t_class ON t_object.class_id = t_class.class_id\n",
    "    WHERE t_class.name = 'Node'\n",
    "), gen_obj AS (\n",
    "    SELECT \n",
    "        t_object.object_id AS gen_id,\n",
    "        t_object.name AS generator,\n",
    "    FROM t_object\n",
    "    INNER JOIN t_class ON t_object.class_id = t_class.class_id\n",
    "    WHERE t_class.name = 'Generator' AND t_object.category_id IN (95, 96, 99, 100)\n",
    ")\n",
    "\n",
    "SELECT\n",
    "    node_obj.node,\n",
    "    gen_obj.generator,\n",
    "FROM t_membership\n",
    "INNER JOIN node_obj ON t_membership.child_object_id = node_obj.node_id\n",
    "INNER JOIN gen_obj ON t_membership.parent_object_id = gen_obj.gen_id\n",
    "WHERE t_membership.collection_id = 12"
   ]
  },
  {
   "cell_type": "markdown",
   "metadata": {},
   "source": [
    "## Juntando la información\n",
    "Con el trabajo de armar los SQL, ahora se pasa a solo usar polars para disminuir la necesidad de otra libreria `DuckDB` (por mucho que me guste esta db)."
   ]
  },
  {
   "cell_type": "code",
   "execution_count": 40,
   "metadata": {},
   "outputs": [],
   "source": [
    "import polars as pl\n",
    "\n",
    "from pathlib import Path\n",
    "from sqlalchemy.exc import SQLAlchemyError\n",
    "from sqlalchemy import (\n",
    "    engine,\n",
    "    create_engine,\n",
    ")\n",
    "\n",
    "# Lectura de SQL Barra-Generador\n",
    "path_sql_node = Path(r\"../poc_prorrataerv/sql/gen_node.sql\").absolute()\n",
    "with open(path_sql_node, \"r\") as file:\n",
    "    sql_node = file.read()\n",
    "\n",
    "# Lectura de SQL con data de generacion\n",
    "path_sql_gen = Path(r\"../poc_prorrataerv/sql/gen_data.sql\").absolute()\n",
    "with open(path_sql_gen, \"r\") as file:\n",
    "    sql_gen = file.read()\n",
    "\n",
    "# lectura de SQL con data de barras con costos marginales menor a 0\n",
    "path_sql_cmg = Path(r\"../poc_prorrataerv/sql/cmg_data.sql\").absolute()\n",
    "with open(path_sql_cmg, \"r\") as file:\n",
    "    sql_cmg = file.read()\n",
    "\n",
    "# Inicio de captura de datos en dataframes\n",
    "path_prg = Path(r\"../data/Model PRGdia_Full_Definitivo Solution.accdb\").absolute()\n",
    "\n",
    "if not path_prg.exists():\n",
    "    raise ValueError(f\"Path: {path_prg} does not exists.\")\n",
    "\n",
    "connection_string = (\n",
    "    r\"DRIVER={Microsoft Access Driver (*.mdb, *.accdb)};\"\n",
    "    rf\"DBQ={path_prg.as_posix()};\"\n",
    "    r\"ExtendedAnsiSQL=1;\"\n",
    ")\n",
    "connection_url = engine.URL.create(\n",
    "    \"access+pyodbc\",\n",
    "    query={\"odbc_connect\": connection_string}\n",
    ")\n",
    "\n",
    "try:\n",
    "    prg_engine = create_engine(connection_url)\n",
    "\n",
    "    df_nodes = pl.read_database(query=sql_node, connection=prg_engine)\n",
    "    df_gen = pl.read_database(query=sql_gen, connection=prg_engine)\n",
    "    df_cmg = pl.read_database(query=sql_cmg, connection=prg_engine)\n",
    "\n",
    "except SQLAlchemyError as e:\n",
    "    print(f\"Error: {e}\")\n",
    "\n",
    "finally:\n",
    "    prg_engine.dispose()\n"
   ]
  },
  {
   "cell_type": "code",
   "execution_count": 41,
   "metadata": {},
   "outputs": [],
   "source": [
    "# Lectura de otros datos pmgd\n",
    "path_pmgd = Path(r\"W:/41 Dpto Pronosticos/Vertimiento_ERNC/Lista_PMGDs.xlsx\").absolute()\n",
    "df_pmgd = pl.read_excel(\n",
    "    source=path_pmgd,\n",
    "    sheet_name=\"Hoja1\",\n",
    "    xlsx2csv_options={\"skip_empty_lines\": True},\n",
    "    read_csv_options={\"new_columns\": [\"Nombre_CDC\",\"Centrales\"]},\n",
    ")\n",
    "\n",
    "# lectura de lista de centrales vetadas\n",
    "path_vetados = Path(r\"R:/Aplicaciones/Prorrateo_Vertimiento/Centrales_Vetadas.xlsx\").absolute()\n",
    "df_vetados = pl.read_excel(\n",
    "    source=path_vetados,\n",
    "    sheet_name=\"Hoja1\",\n",
    "    xlsx2csv_options={\"skip_empty_lines\": True},\n",
    "    read_csv_options={\"new_columns\": [\"Centrales\"]},\n",
    ")"
   ]
  },
  {
   "cell_type": "code",
   "execution_count": 3,
   "metadata": {},
   "outputs": [
    {
     "data": {
      "text/html": [
       "<div><style>\n",
       ".dataframe > thead > tr,\n",
       ".dataframe > tbody > tr {\n",
       "  text-align: right;\n",
       "  white-space: pre-wrap;\n",
       "}\n",
       "</style>\n",
       "<small>shape: (6, 2)</small><table border=\"1\" class=\"dataframe\"><thead><tr><th>Generator</th><th>Total Capacity Curtailed</th></tr><tr><td>str</td><td>f64</td></tr></thead><tbody><tr><td>&quot;USYA_FV&quot;</td><td>50.543</td></tr><tr><td>&quot;JOTABECHE_FV&quot;</td><td>3.522102</td></tr><tr><td>&quot;PARANAL_FV&quot;</td><td>23.154222</td></tr><tr><td>&quot;ARMAZONES_FV&quot;</td><td>45.930038</td></tr><tr><td>&quot;SAN_PEDRO_GPG_…</td><td>89.5</td></tr><tr><td>&quot;TRAVESIA_FV&quot;</td><td>1.982644</td></tr></tbody></table></div>"
      ],
      "text/plain": [
       "shape: (6, 2)\n",
       "┌──────────────────┬──────────────────────────┐\n",
       "│ Generator        ┆ Total Capacity Curtailed │\n",
       "│ ---              ┆ ---                      │\n",
       "│ str              ┆ f64                      │\n",
       "╞══════════════════╪══════════════════════════╡\n",
       "│ USYA_FV          ┆ 50.543                   │\n",
       "│ JOTABECHE_FV     ┆ 3.522102                 │\n",
       "│ PARANAL_FV       ┆ 23.154222                │\n",
       "│ ARMAZONES_FV     ┆ 45.930038                │\n",
       "│ SAN_PEDRO_GPG_FV ┆ 89.5                     │\n",
       "│ TRAVESIA_FV      ┆ 1.982644                 │\n",
       "└──────────────────┴──────────────────────────┘"
      ]
     },
     "execution_count": 3,
     "metadata": {},
     "output_type": "execute_result"
    }
   ],
   "source": [
    "# Check errores de curtailement por centrales no pintadas en rojo.\n",
    "(\n",
    "    df_gen\n",
    "    .filter(\n",
    "        pl.col(\"generator\").is_in(\n",
    "            pl.concat(\n",
    "                [df_vetados[\"Centrales\"].unique(),\n",
    "                 df_pmgd[\"Centrales\"].unique()]\n",
    "            )\n",
    "        )\n",
    "    )\n",
    "    .pivot(\n",
    "        values=\"value\",\n",
    "        columns=\"property\",\n",
    "        index=[\"generator\", \"datetime\"]\n",
    "    )\n",
    "    .filter(\n",
    "        pl.col(\"Units Generating\") == 1,\n",
    "        pl.col(\"Capacity Curtailed\") != 0,\n",
    "    )\n",
    "    .select(\n",
    "        pl.exclude(\"Units Generating\")\n",
    "    )\n",
    "    .group_by(pl.col(\"generator\").alias(\"Generator\"))\n",
    "    .agg(pl.col(\"Capacity Curtailed\").sum().alias(\"Total Capacity Curtailed\"))\n",
    ")"
   ]
  },
  {
   "cell_type": "code",
   "execution_count": 42,
   "metadata": {},
   "outputs": [
    {
     "data": {
      "text/html": [
       "<div><style>\n",
       ".dataframe > thead > tr,\n",
       ".dataframe > tbody > tr {\n",
       "  text-align: right;\n",
       "  white-space: pre-wrap;\n",
       "}\n",
       "</style>\n",
       "<small>shape: (3_458, 6)</small><table border=\"1\" class=\"dataframe\"><thead><tr><th>generator</th><th>datetime</th><th>Generation</th><th>Capacity Curtailed</th><th>Max Capacity</th><th>Available Capacity</th></tr><tr><td>str</td><td>datetime[μs]</td><td>f64</td><td>f64</td><td>f64</td><td>f64</td></tr></thead><tbody><tr><td>&quot;ANCOA&quot;</td><td>2024-01-11 00:00:00</td><td>23.2</td><td>0.0</td><td>24.656</td><td>23.2</td></tr><tr><td>&quot;ANCOA&quot;</td><td>2024-01-11 01:00:00</td><td>23.2</td><td>0.0</td><td>24.656</td><td>23.2</td></tr><tr><td>&quot;ANCOA&quot;</td><td>2024-01-11 02:00:00</td><td>23.2</td><td>0.0</td><td>24.656</td><td>23.2</td></tr><tr><td>&quot;ANCOA&quot;</td><td>2024-01-11 03:00:00</td><td>23.2</td><td>0.0</td><td>24.656</td><td>23.2</td></tr><tr><td>&quot;ANCOA&quot;</td><td>2024-01-11 04:00:00</td><td>23.2</td><td>0.0</td><td>24.656</td><td>23.2</td></tr><tr><td>&quot;ANCOA&quot;</td><td>2024-01-11 05:00:00</td><td>23.2</td><td>0.0</td><td>24.656</td><td>23.2</td></tr><tr><td>&quot;ANCOA&quot;</td><td>2024-01-11 06:00:00</td><td>23.2</td><td>0.0</td><td>24.656</td><td>23.2</td></tr><tr><td>&quot;ANCOA&quot;</td><td>2024-01-11 07:00:00</td><td>23.2</td><td>0.0</td><td>24.656</td><td>23.2</td></tr><tr><td>&quot;ANCOA&quot;</td><td>2024-01-11 08:00:00</td><td>23.2</td><td>0.0</td><td>24.656</td><td>23.2</td></tr><tr><td>&quot;ANCOA&quot;</td><td>2024-01-11 09:00:00</td><td>23.2</td><td>0.0</td><td>24.656</td><td>23.2</td></tr><tr><td>&quot;ANCOA&quot;</td><td>2024-01-11 10:00:00</td><td>23.2</td><td>0.0</td><td>24.656</td><td>23.2</td></tr><tr><td>&quot;ANCOA&quot;</td><td>2024-01-11 11:00:00</td><td>23.2</td><td>0.0</td><td>24.656</td><td>23.2</td></tr><tr><td>&hellip;</td><td>&hellip;</td><td>&hellip;</td><td>&hellip;</td><td>&hellip;</td><td>&hellip;</td></tr><tr><td>&quot;VALLE_ESCONDID…</td><td>2024-01-11 08:00:00</td><td>73.5</td><td>0.0</td><td>105.0</td><td>73.5</td></tr><tr><td>&quot;VALLE_ESCONDID…</td><td>2024-01-11 09:00:00</td><td>100.5</td><td>0.0</td><td>105.0</td><td>100.5</td></tr><tr><td>&quot;VALLE_ESCONDID…</td><td>2024-01-11 10:00:00</td><td>0.0</td><td>101.3</td><td>105.0</td><td>101.3</td></tr><tr><td>&quot;VALLE_ESCONDID…</td><td>2024-01-11 11:00:00</td><td>101.2</td><td>0.0</td><td>105.0</td><td>101.2</td></tr><tr><td>&quot;VALLE_ESCONDID…</td><td>2024-01-11 12:00:00</td><td>97.0</td><td>0.0</td><td>105.0</td><td>97.0</td></tr><tr><td>&quot;VALLE_ESCONDID…</td><td>2024-01-11 13:00:00</td><td>94.7</td><td>0.0</td><td>105.0</td><td>94.7</td></tr><tr><td>&quot;VALLE_ESCONDID…</td><td>2024-01-11 14:00:00</td><td>94.7</td><td>0.0</td><td>105.0</td><td>94.7</td></tr><tr><td>&quot;VALLE_ESCONDID…</td><td>2024-01-11 15:00:00</td><td>94.8</td><td>0.0</td><td>105.0</td><td>94.8</td></tr><tr><td>&quot;VALLE_ESCONDID…</td><td>2024-01-11 16:00:00</td><td>94.8</td><td>0.0</td><td>105.0</td><td>94.8</td></tr><tr><td>&quot;VALLE_ESCONDID…</td><td>2024-01-11 17:00:00</td><td>94.8</td><td>0.0</td><td>105.0</td><td>94.8</td></tr><tr><td>&quot;VALLE_ESCONDID…</td><td>2024-01-11 18:00:00</td><td>92.1</td><td>0.0</td><td>105.0</td><td>92.1</td></tr><tr><td>&quot;VALLE_ESCONDID…</td><td>2024-01-11 19:00:00</td><td>45.5</td><td>0.0</td><td>105.0</td><td>45.5</td></tr></tbody></table></div>"
      ],
      "text/plain": [
       "shape: (3_458, 6)\n",
       "┌───────────────────────┬──────────────────────┬────────────┬───────────┬──────────────┬───────────┐\n",
       "│ generator             ┆ datetime             ┆ Generation ┆ Capacity  ┆ Max Capacity ┆ Available │\n",
       "│ ---                   ┆ ---                  ┆ ---        ┆ Curtailed ┆ ---          ┆ Capacity  │\n",
       "│ str                   ┆ datetime[μs]         ┆ f64        ┆ ---       ┆ f64          ┆ ---       │\n",
       "│                       ┆                      ┆            ┆ f64       ┆              ┆ f64       │\n",
       "╞═══════════════════════╪══════════════════════╪════════════╪═══════════╪══════════════╪═══════════╡\n",
       "│ ANCOA                 ┆ 2024-01-11 00:00:00  ┆ 23.2       ┆ 0.0       ┆ 24.656       ┆ 23.2      │\n",
       "│ ANCOA                 ┆ 2024-01-11 01:00:00  ┆ 23.2       ┆ 0.0       ┆ 24.656       ┆ 23.2      │\n",
       "│ ANCOA                 ┆ 2024-01-11 02:00:00  ┆ 23.2       ┆ 0.0       ┆ 24.656       ┆ 23.2      │\n",
       "│ ANCOA                 ┆ 2024-01-11 03:00:00  ┆ 23.2       ┆ 0.0       ┆ 24.656       ┆ 23.2      │\n",
       "│ …                     ┆ …                    ┆ …          ┆ …         ┆ …            ┆ …         │\n",
       "│ VALLE_ESCONDIDO_FV    ┆ 2024-01-11 16:00:00  ┆ 94.8       ┆ 0.0       ┆ 105.0        ┆ 94.8      │\n",
       "│ VALLE_ESCONDIDO_FV    ┆ 2024-01-11 17:00:00  ┆ 94.8       ┆ 0.0       ┆ 105.0        ┆ 94.8      │\n",
       "│ VALLE_ESCONDIDO_FV    ┆ 2024-01-11 18:00:00  ┆ 92.1       ┆ 0.0       ┆ 105.0        ┆ 92.1      │\n",
       "│ VALLE_ESCONDIDO_FV    ┆ 2024-01-11 19:00:00  ┆ 45.5       ┆ 0.0       ┆ 105.0        ┆ 45.5      │\n",
       "└───────────────────────┴──────────────────────┴────────────┴───────────┴──────────────┴───────────┘"
      ]
     },
     "execution_count": 42,
     "metadata": {},
     "output_type": "execute_result"
    }
   ],
   "source": [
    "# transformación de data para generación, eliminando centrales vetadas y pmgd\n",
    "# y pivotear la data para tener las columnas de las propiedades\n",
    "# y filtrar las centrales que no estan generando\n",
    "df_gen_pivot = (\n",
    "    df_gen\n",
    "    .filter(\n",
    "        ~pl.col(\"generator\").is_in(df_vetados[\"Centrales\"].unique()),\n",
    "        ~pl.col(\"generator\").is_in(df_pmgd[\"Centrales\"].unique()),\n",
    "    )\n",
    "    .pivot(\n",
    "        values=\"value\",\n",
    "        columns=\"property\",\n",
    "        index=[\"generator\", \"datetime\"]\n",
    "    )\n",
    "    .filter(\n",
    "        pl.col(\"Units Generating\") == 1,\n",
    "    )\n",
    "    .select(\n",
    "        pl.exclude(\"Units Generating\")\n",
    "    )\n",
    ")\n",
    "df_gen_pivot"
   ]
  },
  {
   "cell_type": "code",
   "execution_count": 43,
   "metadata": {},
   "outputs": [],
   "source": [
    "def calc_error(df: pl.LazyFrame, original_col: str = \"Generation\", prorrata_col: str = \"Prorrata\", over_col: str = \"datetime\") -> pl.LazyFrame:\n",
    "    return (\n",
    "        df\n",
    "        .with_columns(\n",
    "            pl.when(pl.col(\"Prorrata\").lt(0))\n",
    "            .then(pl.col(\"Prorrata\").abs())\n",
    "            .otherwise(0)\n",
    "            .alias(\"Error\"),\n",
    "            pl.when(pl.col(\"Prorrata\").lt(0))\n",
    "            .then(0)\n",
    "            .otherwise(pl.col(\"Prorrata\"))\n",
    "            .alias(\"Prorrata\"),\n",
    "        )\n",
    "    )\n",
    "\n",
    "def check_error(df: pl.LazyFrame, error_col: str = \"Error\", tol: float = 1e-3) -> bool:\n",
    "    return df.select(pl.col(error_col).ge(tol).any()).collect().item()\n",
    "\n",
    "def show_total_error(df: pl.LazyFrame, error_col: str = \"Error\") -> float:\n",
    "    return df.select(pl.col(error_col).sum().alias(\"Total Error\")).collect().item()\n",
    "\n",
    "def calc_prorrata(df: pl.LazyFrame, target_col: str = \"Prorrata\", error_col: str = \"Error\", weight_col: str = \"Max Capacity\", over_col: str = \"datetime\") -> pl.LazyFrame:\n",
    "    return (\n",
    "        df\n",
    "        .with_columns(\n",
    "            (pl.col(target_col) - pl.col(error_col).sum().over(over_col) * pl.col(weight_col) / pl.col(weight_col).sum().over(over_col)).alias(\"Prorrata\"),\n",
    "        )\n",
    "    )"
   ]
  },
  {
   "cell_type": "code",
   "execution_count": 44,
   "metadata": {},
   "outputs": [],
   "source": [
    "def process_prorrata(df: pl.LazyFrame, target_col: str = \"Prorrata\", error_col: str = \"Error\", weight_col: str = \"Max Capacity\", over_col: str = \"datetime\") -> pl.LazyFrame:\n",
    "    df_processed = calc_prorrata(df,target_col,error_col)\n",
    "    df_processed = calc_error(df_processed)\n",
    "\n",
    "    print(check_error(df_processed))\n",
    "    print(show_total_error(df_processed))\n",
    "\n",
    "    if check_error(df_processed):\n",
    "        return process_prorrata(df_processed)\n",
    "    \n",
    "    return df_processed"
   ]
  },
  {
   "cell_type": "code",
   "execution_count": 45,
   "metadata": {},
   "outputs": [],
   "source": [
    "test_data = (\n",
    "    df_cmg\n",
    "    .join(df_nodes, on=\"node\", how=\"inner\")\n",
    "    .join(df_gen_pivot, on=[\"generator\",\"datetime\"], how=\"inner\")\n",
    ")"
   ]
  },
  {
   "cell_type": "code",
   "execution_count": 46,
   "metadata": {},
   "outputs": [
    {
     "name": "stdout",
     "output_type": "stream",
     "text": [
      "True\n",
      "287.62912102288067\n",
      "True\n",
      "39.23430898394995\n",
      "True\n",
      "6.99900362532531\n",
      "True\n",
      "1.3878593732879132\n",
      "True\n",
      "0.29011683766575624\n",
      "True\n",
      "0.06250819986513116\n",
      "True\n",
      "0.013725650134728495\n",
      "False\n",
      "0.003051937765409438\n"
     ]
    }
   ],
   "source": [
    "test_prorrata_func = process_prorrata(test_data.lazy(),\"Available Capacity\",\"Capacity Curtailed\")"
   ]
  },
  {
   "cell_type": "code",
   "execution_count": 47,
   "metadata": {},
   "outputs": [
    {
     "data": {
      "text/html": [
       "<div><style>\n",
       ".dataframe > thead > tr,\n",
       ".dataframe > tbody > tr {\n",
       "  text-align: right;\n",
       "  white-space: pre-wrap;\n",
       "}\n",
       "</style>\n",
       "<small>shape: (9, 10)</small><table border=\"1\" class=\"dataframe\"><thead><tr><th>describe</th><th>node</th><th>datetime</th><th>generator</th><th>Generation</th><th>Capacity Curtailed</th><th>Max Capacity</th><th>Available Capacity</th><th>Prorrata</th><th>Error</th></tr><tr><td>str</td><td>str</td><td>str</td><td>str</td><td>f64</td><td>f64</td><td>f64</td><td>f64</td><td>f64</td><td>f64</td></tr></thead><tbody><tr><td>&quot;count&quot;</td><td>&quot;823&quot;</td><td>&quot;823&quot;</td><td>&quot;823&quot;</td><td>823.0</td><td>823.0</td><td>823.0</td><td>823.0</td><td>823.0</td><td>823.0</td></tr><tr><td>&quot;null_count&quot;</td><td>&quot;0&quot;</td><td>&quot;0&quot;</td><td>&quot;0&quot;</td><td>0.0</td><td>0.0</td><td>0.0</td><td>0.0</td><td>0.0</td><td>0.0</td></tr><tr><td>&quot;mean&quot;</td><td>null</td><td>null</td><td>null</td><td>46.685793</td><td>9.270782</td><td>82.792001</td><td>55.956575</td><td>46.685797</td><td>0.000004</td></tr><tr><td>&quot;std&quot;</td><td>null</td><td>null</td><td>null</td><td>65.275302</td><td>25.71281</td><td>77.776877</td><td>64.189668</td><td>55.799891</td><td>0.000031</td></tr><tr><td>&quot;min&quot;</td><td>&quot;AJahuel220&quot;</td><td>&quot;2024-01-11 09:…</td><td>&quot;ABANICO&quot;</td><td>0.0</td><td>0.0</td><td>0.3</td><td>0.003134</td><td>0.0</td><td>0.0</td></tr><tr><td>&quot;25%&quot;</td><td>null</td><td>null</td><td>null</td><td>1.1</td><td>0.0</td><td>10.5</td><td>6.4</td><td>4.157271</td><td>0.0</td></tr><tr><td>&quot;50%&quot;</td><td>null</td><td>null</td><td>null</td><td>14.5</td><td>0.0</td><td>69.0</td><td>37.88</td><td>29.26836</td><td>0.0</td></tr><tr><td>&quot;75%&quot;</td><td>null</td><td>null</td><td>null</td><td>74.68</td><td>0.0</td><td>115.5</td><td>87.3</td><td>72.38615</td><td>0.0</td></tr><tr><td>&quot;max&quot;</td><td>&quot;Tinguiririca15…</td><td>&quot;2024-01-11 18:…</td><td>&quot;VALLE_ESCONDID…</td><td>366.746</td><td>164.9</td><td>381.0</td><td>366.746</td><td>322.012205</td><td>0.000367</td></tr></tbody></table></div>"
      ],
      "text/plain": [
       "shape: (9, 10)\n",
       "┌───────────┬───────────┬───────────┬───────────┬───┬───────────┬───────────┬───────────┬──────────┐\n",
       "│ describe  ┆ node      ┆ datetime  ┆ generator ┆ … ┆ Max       ┆ Available ┆ Prorrata  ┆ Error    │\n",
       "│ ---       ┆ ---       ┆ ---       ┆ ---       ┆   ┆ Capacity  ┆ Capacity  ┆ ---       ┆ ---      │\n",
       "│ str       ┆ str       ┆ str       ┆ str       ┆   ┆ ---       ┆ ---       ┆ f64       ┆ f64      │\n",
       "│           ┆           ┆           ┆           ┆   ┆ f64       ┆ f64       ┆           ┆          │\n",
       "╞═══════════╪═══════════╪═══════════╪═══════════╪═══╪═══════════╪═══════════╪═══════════╪══════════╡\n",
       "│ count     ┆ 823       ┆ 823       ┆ 823       ┆ … ┆ 823.0     ┆ 823.0     ┆ 823.0     ┆ 823.0    │\n",
       "│ null_coun ┆ 0         ┆ 0         ┆ 0         ┆ … ┆ 0.0       ┆ 0.0       ┆ 0.0       ┆ 0.0      │\n",
       "│ t         ┆           ┆           ┆           ┆   ┆           ┆           ┆           ┆          │\n",
       "│ mean      ┆ null      ┆ null      ┆ null      ┆ … ┆ 82.792001 ┆ 55.956575 ┆ 46.685797 ┆ 0.000004 │\n",
       "│ std       ┆ null      ┆ null      ┆ null      ┆ … ┆ 77.776877 ┆ 64.189668 ┆ 55.799891 ┆ 0.000031 │\n",
       "│ min       ┆ AJahuel22 ┆ 2024-01-1 ┆ ABANICO   ┆ … ┆ 0.3       ┆ 0.003134  ┆ 0.0       ┆ 0.0      │\n",
       "│           ┆ 0         ┆ 1         ┆           ┆   ┆           ┆           ┆           ┆          │\n",
       "│           ┆           ┆ 09:00:00  ┆           ┆   ┆           ┆           ┆           ┆          │\n",
       "│ 25%       ┆ null      ┆ null      ┆ null      ┆ … ┆ 10.5      ┆ 6.4       ┆ 4.157271  ┆ 0.0      │\n",
       "│ 50%       ┆ null      ┆ null      ┆ null      ┆ … ┆ 69.0      ┆ 37.88     ┆ 29.26836  ┆ 0.0      │\n",
       "│ 75%       ┆ null      ┆ null      ┆ null      ┆ … ┆ 115.5     ┆ 87.3      ┆ 72.38615  ┆ 0.0      │\n",
       "│ max       ┆ Tinguirir ┆ 2024-01-1 ┆ VALLE_ESC ┆ … ┆ 381.0     ┆ 366.746   ┆ 322.01220 ┆ 0.000367 │\n",
       "│           ┆ ica154    ┆ 1         ┆ ONDIDO_FV ┆   ┆           ┆           ┆ 5         ┆          │\n",
       "│           ┆           ┆ 18:00:00  ┆           ┆   ┆           ┆           ┆           ┆          │\n",
       "└───────────┴───────────┴───────────┴───────────┴───┴───────────┴───────────┴───────────┴──────────┘"
      ]
     },
     "execution_count": 47,
     "metadata": {},
     "output_type": "execute_result"
    }
   ],
   "source": [
    "test_prorrata_func.collect().describe()"
   ]
  },
  {
   "cell_type": "code",
   "execution_count": 48,
   "metadata": {},
   "outputs": [
    {
     "data": {
      "text/html": [
       "<div><style>\n",
       ".dataframe > thead > tr,\n",
       ".dataframe > tbody > tr {\n",
       "  text-align: right;\n",
       "  white-space: pre-wrap;\n",
       "}\n",
       "</style>\n",
       "<small>shape: (10, 6)</small><table border=\"1\" class=\"dataframe\"><thead><tr><th>datetime</th><th>Total_Gen</th><th>Total_Gen_Prorrata</th><th>Total_Error</th><th>Sum_Prorrata_error</th><th>Test_total</th></tr><tr><td>datetime[μs]</td><td>f64</td><td>f64</td><td>f64</td><td>f64</td><td>f64</td></tr></thead><tbody><tr><td>2024-01-11 09:00:00</td><td>5192.164816</td><td>5192.164816</td><td>1.1714e-8</td><td>5192.164816</td><td>-2.3297e-8</td></tr><tr><td>2024-01-11 10:00:00</td><td>1267.639286</td><td>1267.639286</td><td>5.7114e-9</td><td>1267.639286</td><td>-4.2596e-9</td></tr><tr><td>2024-01-11 11:00:00</td><td>3819.634563</td><td>3819.637407</td><td>0.002844</td><td>3819.634563</td><td>-8.4385e-9</td></tr><tr><td>2024-01-11 12:00:00</td><td>3940.779408</td><td>3940.779608</td><td>0.0002</td><td>3940.779408</td><td>2.7451e-9</td></tr><tr><td>2024-01-11 13:00:00</td><td>3939.977646</td><td>3939.977655</td><td>0.000008</td><td>3939.977646</td><td>-7.7408e-10</td></tr><tr><td>2024-01-11 14:00:00</td><td>3917.010157</td><td>3917.010157</td><td>2.4655e-7</td><td>3917.010157</td><td>4.2945e-9</td></tr><tr><td>2024-01-11 15:00:00</td><td>4154.263024</td><td>4154.263024</td><td>1.8354e-10</td><td>4154.263024</td><td>-3.5326e-9</td></tr><tr><td>2024-01-11 16:00:00</td><td>4034.743655</td><td>4034.743655</td><td>3.2390e-12</td><td>4034.743655</td><td>3.5579e-9</td></tr><tr><td>2024-01-11 17:00:00</td><td>4063.363033</td><td>4063.363033</td><td>1.3848e-12</td><td>4063.363033</td><td>2.5116e-9</td></tr><tr><td>2024-01-11 18:00:00</td><td>4092.832172</td><td>4092.832172</td><td>1.0691e-18</td><td>4092.832172</td><td>1.7003e-9</td></tr></tbody></table></div>"
      ],
      "text/plain": [
       "shape: (10, 6)\n",
       "┌──────────────┬─────────────┬─────────────────────┬─────────────┬────────────────────┬────────────┐\n",
       "│ datetime     ┆ Total_Gen   ┆ Total_Gen_Prorrata  ┆ Total_Error ┆ Sum_Prorrata_error ┆ Test_total │\n",
       "│ ---          ┆ ---         ┆ ---                 ┆ ---         ┆ ---                ┆ ---        │\n",
       "│ datetime[μs] ┆ f64         ┆ f64                 ┆ f64         ┆ f64                ┆ f64        │\n",
       "╞══════════════╪═════════════╪═════════════════════╪═════════════╪════════════════════╪════════════╡\n",
       "│ 2024-01-11   ┆ 5192.164816 ┆ 5192.164816         ┆ 1.1714e-8   ┆ 5192.164816        ┆ -2.3297e-8 │\n",
       "│ 09:00:00     ┆             ┆                     ┆             ┆                    ┆            │\n",
       "│ 2024-01-11   ┆ 1267.639286 ┆ 1267.639286         ┆ 5.7114e-9   ┆ 1267.639286        ┆ -4.2596e-9 │\n",
       "│ 10:00:00     ┆             ┆                     ┆             ┆                    ┆            │\n",
       "│ 2024-01-11   ┆ 3819.634563 ┆ 3819.637407         ┆ 0.002844    ┆ 3819.634563        ┆ -8.4385e-9 │\n",
       "│ 11:00:00     ┆             ┆                     ┆             ┆                    ┆            │\n",
       "│ 2024-01-11   ┆ 3940.779408 ┆ 3940.779608         ┆ 0.0002      ┆ 3940.779408        ┆ 2.7451e-9  │\n",
       "│ 12:00:00     ┆             ┆                     ┆             ┆                    ┆            │\n",
       "│ …            ┆ …           ┆ …                   ┆ …           ┆ …                  ┆ …          │\n",
       "│ 2024-01-11   ┆ 4154.263024 ┆ 4154.263024         ┆ 1.8354e-10  ┆ 4154.263024        ┆ -3.5326e-9 │\n",
       "│ 15:00:00     ┆             ┆                     ┆             ┆                    ┆            │\n",
       "│ 2024-01-11   ┆ 4034.743655 ┆ 4034.743655         ┆ 3.2390e-12  ┆ 4034.743655        ┆ 3.5579e-9  │\n",
       "│ 16:00:00     ┆             ┆                     ┆             ┆                    ┆            │\n",
       "│ 2024-01-11   ┆ 4063.363033 ┆ 4063.363033         ┆ 1.3848e-12  ┆ 4063.363033        ┆ 2.5116e-9  │\n",
       "│ 17:00:00     ┆             ┆                     ┆             ┆                    ┆            │\n",
       "│ 2024-01-11   ┆ 4092.832172 ┆ 4092.832172         ┆ 1.0691e-18  ┆ 4092.832172        ┆ 1.7003e-9  │\n",
       "│ 18:00:00     ┆             ┆                     ┆             ┆                    ┆            │\n",
       "└──────────────┴─────────────┴─────────────────────┴─────────────┴────────────────────┴────────────┘"
      ]
     },
     "execution_count": 48,
     "metadata": {},
     "output_type": "execute_result"
    }
   ],
   "source": [
    "(\n",
    "    test_prorrata_func\n",
    "    .sort(by=\"datetime\")\n",
    "    .group_by(\"datetime\")\n",
    "    .agg(\n",
    "        #pl.col(\"Prorrata_Curt\").sum().alias(\"Total_Curatiled\"),\n",
    "        pl.col(\"Generation\").sum().alias(\"Total_Gen\"),\n",
    "        pl.col(\"Prorrata\").sum().alias(\"Total_Gen_Prorrata\"),\n",
    "        #pl.col(\"Prorrata\").min().alias(\"Min_Gen_Prorrata\"),\n",
    "        #pl.col(\"Prorrata\").filter(pl.col(\"Prorrata\").lt(0)).sum().alias(\"Sum_Gen_Prorrata\"),\n",
    "        pl.col(\"Error\").sum().alias(\"Total_Error\"),\n",
    "        (pl.col(\"Prorrata\") - pl.col(\"Error\")).sum().alias(\"Sum_Prorrata_error\"),\n",
    "        (pl.col(\"Generation\") - (pl.col(\"Prorrata\") - pl.col(\"Error\"))).sum().alias(\"Test_total\"),\n",
    "    )\n",
    ").collect()"
   ]
  },
  {
   "cell_type": "code",
   "execution_count": 85,
   "metadata": {},
   "outputs": [
    {
     "data": {
      "text/html": [
       "<div><style>\n",
       ".dataframe > thead > tr,\n",
       ".dataframe > tbody > tr {\n",
       "  text-align: right;\n",
       "  white-space: pre-wrap;\n",
       "}\n",
       "</style>\n",
       "<small>shape: (823, 9)</small><table border=\"1\" class=\"dataframe\"><thead><tr><th>node</th><th>datetime</th><th>generator</th><th>Generation</th><th>Capacity Curtailed</th><th>Max Capacity</th><th>Available Capacity</th><th>Prorrata</th><th>Error</th></tr><tr><td>str</td><td>datetime[μs]</td><td>str</td><td>f64</td><td>f64</td><td>f64</td><td>f64</td><td>f64</td><td>f64</td></tr></thead><tbody><tr><td>&quot;Linares154&quot;</td><td>2024-01-11 09:00:00</td><td>&quot;ANCOA&quot;</td><td>23.2</td><td>0.0</td><td>24.656</td><td>23.2</td><td>23.008707</td><td>0.0</td></tr><tr><td>&quot;AJahuel220&quot;</td><td>2024-01-11 09:00:00</td><td>&quot;CARENA&quot;</td><td>2.75</td><td>0.0</td><td>10.0</td><td>2.75</td><td>2.672415</td><td>0.0</td></tr><tr><td>&quot;Polpaico220&quot;</td><td>2024-01-11 09:00:00</td><td>&quot;CHACABUQUITO&quot;</td><td>17.4</td><td>0.0</td><td>25.7</td><td>17.4</td><td>17.200607</td><td>0.0</td></tr><tr><td>&quot;Arica066&quot;</td><td>2024-01-11 15:00:00</td><td>&quot;CHAPIQUINA&quot;</td><td>3.5</td><td>0.0</td><td>10.14</td><td>3.5</td><td>1.957316</td><td>0.0</td></tr><tr><td>&quot;Arica066&quot;</td><td>2024-01-11 16:00:00</td><td>&quot;CHAPIQUINA&quot;</td><td>3.5</td><td>0.0</td><td>10.14</td><td>3.5</td><td>1.766191</td><td>0.0</td></tr><tr><td>&quot;Arica066&quot;</td><td>2024-01-11 17:00:00</td><td>&quot;CHAPIQUINA&quot;</td><td>3.5</td><td>0.0</td><td>10.14</td><td>3.5</td><td>2.017652</td><td>0.0</td></tr><tr><td>&quot;Arica066&quot;</td><td>2024-01-11 18:00:00</td><td>&quot;CHAPIQUINA&quot;</td><td>3.5</td><td>0.0</td><td>10.14</td><td>3.5</td><td>3.013363</td><td>0.0</td></tr><tr><td>&quot;Itahue154&quot;</td><td>2024-01-11 09:00:00</td><td>&quot;CONVENTO_VIEJO…</td><td>14.5</td><td>0.0</td><td>19.4</td><td>14.5</td><td>14.349485</td><td>0.0</td></tr><tr><td>&quot;Tinguiririca15…</td><td>2024-01-11 09:00:00</td><td>&quot;EL_PASO&quot;</td><td>57.0</td><td>0.0</td><td>60.0</td><td>57.0</td><td>56.534491</td><td>0.0</td></tr><tr><td>&quot;Florida110&quot;</td><td>2024-01-11 09:00:00</td><td>&quot;FLORIDA_2&quot;</td><td>11.0</td><td>0.0</td><td>28.0</td><td>11.0</td><td>10.782762</td><td>0.0</td></tr><tr><td>&quot;Florida110&quot;</td><td>2024-01-11 09:00:00</td><td>&quot;FLORIDA_3&quot;</td><td>2.2</td><td>0.0</td><td>28.0</td><td>2.2</td><td>1.982762</td><td>0.0</td></tr><tr><td>&quot;Polpaico220&quot;</td><td>2024-01-11 09:00:00</td><td>&quot;JUNCAL&quot;</td><td>24.0</td><td>0.0</td><td>32.0</td><td>24.0</td><td>23.751728</td><td>0.0</td></tr><tr><td>&hellip;</td><td>&hellip;</td><td>&hellip;</td><td>&hellip;</td><td>&hellip;</td><td>&hellip;</td><td>&hellip;</td><td>&hellip;</td><td>&hellip;</td></tr><tr><td>&quot;Miraje220&quot;</td><td>2024-01-11 17:00:00</td><td>&quot;VALLE_DEL_SOL_…</td><td>120.24</td><td>0.0</td><td>149.9</td><td>120.24</td><td>98.326393</td><td>0.0</td></tr><tr><td>&quot;Miraje220&quot;</td><td>2024-01-11 18:00:00</td><td>&quot;VALLE_DEL_SOL_…</td><td>93.81</td><td>0.0</td><td>149.9</td><td>93.81</td><td>86.61603</td><td>0.0</td></tr><tr><td>&quot;Cardones220&quot;</td><td>2024-01-11 09:00:00</td><td>&quot;VALLE_ESCONDID…</td><td>100.5</td><td>0.0</td><td>105.0</td><td>100.5</td><td>99.685359</td><td>0.0</td></tr><tr><td>&quot;Cardones220&quot;</td><td>2024-01-11 10:00:00</td><td>&quot;VALLE_ESCONDID…</td><td>0.0</td><td>101.3</td><td>105.0</td><td>101.3</td><td>78.537474</td><td>0.0</td></tr><tr><td>&quot;Cardones220&quot;</td><td>2024-01-11 11:00:00</td><td>&quot;VALLE_ESCONDID…</td><td>101.2</td><td>0.0</td><td>105.0</td><td>101.2</td><td>89.477812</td><td>0.0</td></tr><tr><td>&quot;Cardones220&quot;</td><td>2024-01-11 12:00:00</td><td>&quot;VALLE_ESCONDID…</td><td>97.0</td><td>0.0</td><td>105.0</td><td>97.0</td><td>84.407921</td><td>0.0</td></tr><tr><td>&quot;Cardones220&quot;</td><td>2024-01-11 13:00:00</td><td>&quot;VALLE_ESCONDID…</td><td>94.7</td><td>0.0</td><td>105.0</td><td>94.7</td><td>79.421054</td><td>0.0</td></tr><tr><td>&quot;Cardones220&quot;</td><td>2024-01-11 14:00:00</td><td>&quot;VALLE_ESCONDID…</td><td>94.7</td><td>0.0</td><td>105.0</td><td>94.7</td><td>76.900334</td><td>0.0</td></tr><tr><td>&quot;Cardones220&quot;</td><td>2024-01-11 15:00:00</td><td>&quot;VALLE_ESCONDID…</td><td>94.8</td><td>0.0</td><td>105.0</td><td>94.8</td><td>78.825457</td><td>0.0</td></tr><tr><td>&quot;Cardones220&quot;</td><td>2024-01-11 16:00:00</td><td>&quot;VALLE_ESCONDID…</td><td>94.8</td><td>0.0</td><td>105.0</td><td>94.8</td><td>76.846353</td><td>0.0</td></tr><tr><td>&quot;Cardones220&quot;</td><td>2024-01-11 17:00:00</td><td>&quot;VALLE_ESCONDID…</td><td>94.8</td><td>0.0</td><td>105.0</td><td>94.8</td><td>79.450242</td><td>0.0</td></tr><tr><td>&quot;Cardones220&quot;</td><td>2024-01-11 18:00:00</td><td>&quot;VALLE_ESCONDID…</td><td>92.1</td><td>0.0</td><td>105.0</td><td>92.1</td><td>87.060861</td><td>0.0</td></tr></tbody></table></div>"
      ],
      "text/plain": [
       "shape: (823, 9)\n",
       "┌────────────┬────────────┬────────────┬───────────┬───┬───────────┬───────────┬───────────┬───────┐\n",
       "│ node       ┆ datetime   ┆ generator  ┆ Generatio ┆ … ┆ Max       ┆ Available ┆ Prorrata  ┆ Error │\n",
       "│ ---        ┆ ---        ┆ ---        ┆ n         ┆   ┆ Capacity  ┆ Capacity  ┆ ---       ┆ ---   │\n",
       "│ str        ┆ datetime[μ ┆ str        ┆ ---       ┆   ┆ ---       ┆ ---       ┆ f64       ┆ f64   │\n",
       "│            ┆ s]         ┆            ┆ f64       ┆   ┆ f64       ┆ f64       ┆           ┆       │\n",
       "╞════════════╪════════════╪════════════╪═══════════╪═══╪═══════════╪═══════════╪═══════════╪═══════╡\n",
       "│ Linares154 ┆ 2024-01-11 ┆ ANCOA      ┆ 23.2      ┆ … ┆ 24.656    ┆ 23.2      ┆ 23.008707 ┆ 0.0   │\n",
       "│            ┆ 09:00:00   ┆            ┆           ┆   ┆           ┆           ┆           ┆       │\n",
       "│ AJahuel220 ┆ 2024-01-11 ┆ CARENA     ┆ 2.75      ┆ … ┆ 10.0      ┆ 2.75      ┆ 2.672415  ┆ 0.0   │\n",
       "│            ┆ 09:00:00   ┆            ┆           ┆   ┆           ┆           ┆           ┆       │\n",
       "│ Polpaico22 ┆ 2024-01-11 ┆ CHACABUQUI ┆ 17.4      ┆ … ┆ 25.7      ┆ 17.4      ┆ 17.200607 ┆ 0.0   │\n",
       "│ 0          ┆ 09:00:00   ┆ TO         ┆           ┆   ┆           ┆           ┆           ┆       │\n",
       "│ Arica066   ┆ 2024-01-11 ┆ CHAPIQUINA ┆ 3.5       ┆ … ┆ 10.14     ┆ 3.5       ┆ 1.957316  ┆ 0.0   │\n",
       "│            ┆ 15:00:00   ┆            ┆           ┆   ┆           ┆           ┆           ┆       │\n",
       "│ …          ┆ …          ┆ …          ┆ …         ┆ … ┆ …         ┆ …         ┆ …         ┆ …     │\n",
       "│ Cardones22 ┆ 2024-01-11 ┆ VALLE_ESCO ┆ 94.8      ┆ … ┆ 105.0     ┆ 94.8      ┆ 78.825457 ┆ 0.0   │\n",
       "│ 0          ┆ 15:00:00   ┆ NDIDO_FV   ┆           ┆   ┆           ┆           ┆           ┆       │\n",
       "│ Cardones22 ┆ 2024-01-11 ┆ VALLE_ESCO ┆ 94.8      ┆ … ┆ 105.0     ┆ 94.8      ┆ 76.846353 ┆ 0.0   │\n",
       "│ 0          ┆ 16:00:00   ┆ NDIDO_FV   ┆           ┆   ┆           ┆           ┆           ┆       │\n",
       "│ Cardones22 ┆ 2024-01-11 ┆ VALLE_ESCO ┆ 94.8      ┆ … ┆ 105.0     ┆ 94.8      ┆ 79.450242 ┆ 0.0   │\n",
       "│ 0          ┆ 17:00:00   ┆ NDIDO_FV   ┆           ┆   ┆           ┆           ┆           ┆       │\n",
       "│ Cardones22 ┆ 2024-01-11 ┆ VALLE_ESCO ┆ 92.1      ┆ … ┆ 105.0     ┆ 92.1      ┆ 87.060861 ┆ 0.0   │\n",
       "│ 0          ┆ 18:00:00   ┆ NDIDO_FV   ┆           ┆   ┆           ┆           ┆           ┆       │\n",
       "└────────────┴────────────┴────────────┴───────────┴───┴───────────┴───────────┴───────────┴───────┘"
      ]
     },
     "execution_count": 85,
     "metadata": {},
     "output_type": "execute_result"
    }
   ],
   "source": [
    "test_prorrata_func.collect()"
   ]
  },
  {
   "cell_type": "code",
   "execution_count": 86,
   "metadata": {},
   "outputs": [
    {
     "data": {
      "text/html": [
       "<div><style>\n",
       ".dataframe > thead > tr,\n",
       ".dataframe > tbody > tr {\n",
       "  text-align: right;\n",
       "  white-space: pre-wrap;\n",
       "}\n",
       "</style>\n",
       "<small>shape: (87_600, 6)</small><table border=\"1\" class=\"dataframe\"><thead><tr><th>generator</th><th>property</th><th>datetime</th><th>data_key</th><th>data_period</th><th>value</th></tr><tr><td>str</td><td>str</td><td>datetime[μs]</td><td>i64</td><td>i64</td><td>f64</td></tr></thead><tbody><tr><td>&quot;ALFALFAL&quot;</td><td>&quot;Generation&quot;</td><td>2024-01-11 00:00:00</td><td>519</td><td>1</td><td>136.62</td></tr><tr><td>&quot;ALFALFAL&quot;</td><td>&quot;Generation&quot;</td><td>2024-01-11 01:00:00</td><td>519</td><td>2</td><td>139.55</td></tr><tr><td>&quot;ALFALFAL&quot;</td><td>&quot;Generation&quot;</td><td>2024-01-11 02:00:00</td><td>519</td><td>3</td><td>133.27</td></tr><tr><td>&quot;ALFALFAL&quot;</td><td>&quot;Generation&quot;</td><td>2024-01-11 03:00:00</td><td>519</td><td>4</td><td>136.26</td></tr><tr><td>&quot;ALFALFAL&quot;</td><td>&quot;Generation&quot;</td><td>2024-01-11 04:00:00</td><td>519</td><td>5</td><td>135.92</td></tr><tr><td>&quot;ALFALFAL&quot;</td><td>&quot;Generation&quot;</td><td>2024-01-11 05:00:00</td><td>519</td><td>6</td><td>136.97</td></tr><tr><td>&quot;ALFALFAL&quot;</td><td>&quot;Generation&quot;</td><td>2024-01-11 06:00:00</td><td>519</td><td>7</td><td>137.0</td></tr><tr><td>&quot;ALFALFAL&quot;</td><td>&quot;Generation&quot;</td><td>2024-01-11 07:00:00</td><td>519</td><td>8</td><td>136.67</td></tr><tr><td>&quot;ALFALFAL&quot;</td><td>&quot;Generation&quot;</td><td>2024-01-11 08:00:00</td><td>519</td><td>9</td><td>135.67</td></tr><tr><td>&quot;ALFALFAL&quot;</td><td>&quot;Generation&quot;</td><td>2024-01-11 09:00:00</td><td>519</td><td>10</td><td>81.5775</td></tr><tr><td>&quot;ALFALFAL&quot;</td><td>&quot;Generation&quot;</td><td>2024-01-11 10:00:00</td><td>519</td><td>11</td><td>78.4375</td></tr><tr><td>&quot;ALFALFAL&quot;</td><td>&quot;Generation&quot;</td><td>2024-01-11 11:00:00</td><td>519</td><td>12</td><td>72.6275</td></tr><tr><td>&hellip;</td><td>&hellip;</td><td>&hellip;</td><td>&hellip;</td><td>&hellip;</td><td>&hellip;</td></tr><tr><td>&quot;YAHUTELA_FV&quot;</td><td>&quot;Available Capa…</td><td>2024-01-11 12:00:00</td><td>18396</td><td>13</td><td>5.939372</td></tr><tr><td>&quot;YAHUTELA_FV&quot;</td><td>&quot;Available Capa…</td><td>2024-01-11 13:00:00</td><td>18396</td><td>14</td><td>5.927461</td></tr><tr><td>&quot;YAHUTELA_FV&quot;</td><td>&quot;Available Capa…</td><td>2024-01-11 14:00:00</td><td>18396</td><td>15</td><td>5.915091</td></tr><tr><td>&quot;YAHUTELA_FV&quot;</td><td>&quot;Available Capa…</td><td>2024-01-11 15:00:00</td><td>18396</td><td>16</td><td>5.86781</td></tr><tr><td>&quot;YAHUTELA_FV&quot;</td><td>&quot;Available Capa…</td><td>2024-01-11 16:00:00</td><td>18396</td><td>17</td><td>5.758072</td></tr><tr><td>&quot;YAHUTELA_FV&quot;</td><td>&quot;Available Capa…</td><td>2024-01-11 17:00:00</td><td>18396</td><td>18</td><td>5.357772</td></tr><tr><td>&quot;YAHUTELA_FV&quot;</td><td>&quot;Available Capa…</td><td>2024-01-11 18:00:00</td><td>18396</td><td>19</td><td>3.631733</td></tr><tr><td>&quot;YAHUTELA_FV&quot;</td><td>&quot;Available Capa…</td><td>2024-01-11 19:00:00</td><td>18396</td><td>20</td><td>1.644581</td></tr><tr><td>&quot;YAHUTELA_FV&quot;</td><td>&quot;Available Capa…</td><td>2024-01-11 20:00:00</td><td>18396</td><td>21</td><td>0.0</td></tr><tr><td>&quot;YAHUTELA_FV&quot;</td><td>&quot;Available Capa…</td><td>2024-01-11 21:00:00</td><td>18396</td><td>22</td><td>0.0</td></tr><tr><td>&quot;YAHUTELA_FV&quot;</td><td>&quot;Available Capa…</td><td>2024-01-11 22:00:00</td><td>18396</td><td>23</td><td>0.0</td></tr><tr><td>&quot;YAHUTELA_FV&quot;</td><td>&quot;Available Capa…</td><td>2024-01-11 23:00:00</td><td>18396</td><td>24</td><td>0.0</td></tr></tbody></table></div>"
      ],
      "text/plain": [
       "shape: (87_600, 6)\n",
       "┌─────────────┬────────────────────┬─────────────────────┬──────────┬─────────────┬────────┐\n",
       "│ generator   ┆ property           ┆ datetime            ┆ data_key ┆ data_period ┆ value  │\n",
       "│ ---         ┆ ---                ┆ ---                 ┆ ---      ┆ ---         ┆ ---    │\n",
       "│ str         ┆ str                ┆ datetime[μs]        ┆ i64      ┆ i64         ┆ f64    │\n",
       "╞═════════════╪════════════════════╪═════════════════════╪══════════╪═════════════╪════════╡\n",
       "│ ALFALFAL    ┆ Generation         ┆ 2024-01-11 00:00:00 ┆ 519      ┆ 1           ┆ 136.62 │\n",
       "│ ALFALFAL    ┆ Generation         ┆ 2024-01-11 01:00:00 ┆ 519      ┆ 2           ┆ 139.55 │\n",
       "│ ALFALFAL    ┆ Generation         ┆ 2024-01-11 02:00:00 ┆ 519      ┆ 3           ┆ 133.27 │\n",
       "│ ALFALFAL    ┆ Generation         ┆ 2024-01-11 03:00:00 ┆ 519      ┆ 4           ┆ 136.26 │\n",
       "│ …           ┆ …                  ┆ …                   ┆ …        ┆ …           ┆ …      │\n",
       "│ YAHUTELA_FV ┆ Available Capacity ┆ 2024-01-11 20:00:00 ┆ 18396    ┆ 21          ┆ 0.0    │\n",
       "│ YAHUTELA_FV ┆ Available Capacity ┆ 2024-01-11 21:00:00 ┆ 18396    ┆ 22          ┆ 0.0    │\n",
       "│ YAHUTELA_FV ┆ Available Capacity ┆ 2024-01-11 22:00:00 ┆ 18396    ┆ 23          ┆ 0.0    │\n",
       "│ YAHUTELA_FV ┆ Available Capacity ┆ 2024-01-11 23:00:00 ┆ 18396    ┆ 24          ┆ 0.0    │\n",
       "└─────────────┴────────────────────┴─────────────────────┴──────────┴─────────────┴────────┘"
      ]
     },
     "execution_count": 86,
     "metadata": {},
     "output_type": "execute_result"
    }
   ],
   "source": [
    "df_gen"
   ]
  },
  {
   "cell_type": "code",
   "execution_count": 100,
   "metadata": {},
   "outputs": [
    {
     "data": {
      "text/html": [
       "<div><style>\n",
       ".dataframe > thead > tr,\n",
       ".dataframe > tbody > tr {\n",
       "  text-align: right;\n",
       "  white-space: pre-wrap;\n",
       "}\n",
       "</style>\n",
       "<small>shape: (823, 3)</small><table border=\"1\" class=\"dataframe\"><thead><tr><th>key_id</th><th>period_id</th><th>value</th></tr><tr><td>i64</td><td>i64</td><td>f64</td></tr></thead><tbody><tr><td>547</td><td>10</td><td>23.008707</td></tr><tr><td>589</td><td>10</td><td>2.672415</td></tr><tr><td>617</td><td>10</td><td>17.200607</td></tr><tr><td>645</td><td>16</td><td>1.957316</td></tr><tr><td>645</td><td>17</td><td>1.766191</td></tr><tr><td>645</td><td>18</td><td>2.017652</td></tr><tr><td>645</td><td>19</td><td>3.013363</td></tr><tr><td>687</td><td>10</td><td>14.349485</td></tr><tr><td>743</td><td>10</td><td>56.534491</td></tr><tr><td>771</td><td>10</td><td>10.782762</td></tr><tr><td>785</td><td>10</td><td>1.982762</td></tr><tr><td>827</td><td>10</td><td>23.751728</td></tr><tr><td>&hellip;</td><td>&hellip;</td><td>&hellip;</td></tr><tr><td>18145</td><td>18</td><td>98.326393</td></tr><tr><td>18145</td><td>19</td><td>86.61603</td></tr><tr><td>18159</td><td>10</td><td>99.685359</td></tr><tr><td>18159</td><td>11</td><td>78.537474</td></tr><tr><td>18159</td><td>12</td><td>89.477812</td></tr><tr><td>18159</td><td>13</td><td>84.407921</td></tr><tr><td>18159</td><td>14</td><td>79.421054</td></tr><tr><td>18159</td><td>15</td><td>76.900334</td></tr><tr><td>18159</td><td>16</td><td>78.825457</td></tr><tr><td>18159</td><td>17</td><td>76.846353</td></tr><tr><td>18159</td><td>18</td><td>79.450242</td></tr><tr><td>18159</td><td>19</td><td>87.060861</td></tr></tbody></table></div>"
      ],
      "text/plain": [
       "shape: (823, 3)\n",
       "┌────────┬───────────┬───────────┐\n",
       "│ key_id ┆ period_id ┆ value     │\n",
       "│ ---    ┆ ---       ┆ ---       │\n",
       "│ i64    ┆ i64       ┆ f64       │\n",
       "╞════════╪═══════════╪═══════════╡\n",
       "│ 547    ┆ 10        ┆ 23.008707 │\n",
       "│ 589    ┆ 10        ┆ 2.672415  │\n",
       "│ 617    ┆ 10        ┆ 17.200607 │\n",
       "│ 645    ┆ 16        ┆ 1.957316  │\n",
       "│ …      ┆ …         ┆ …         │\n",
       "│ 18159  ┆ 16        ┆ 78.825457 │\n",
       "│ 18159  ┆ 17        ┆ 76.846353 │\n",
       "│ 18159  ┆ 18        ┆ 79.450242 │\n",
       "│ 18159  ┆ 19        ┆ 87.060861 │\n",
       "└────────┴───────────┴───────────┘"
      ]
     },
     "execution_count": 100,
     "metadata": {},
     "output_type": "execute_result"
    }
   ],
   "source": [
    "data_to_update = (\n",
    "    test_prorrata_func\n",
    "    .join(\n",
    "        df_gen.filter(pl.col(\"property\") == \"Generation\").lazy(),\n",
    "        on=[\"generator\",\"datetime\"],\n",
    "        how=\"inner\"\n",
    "    )\n",
    "    .select(\n",
    "        #pl.col(\"generator\"),\n",
    "        #pl.col(\"datetime\"),\n",
    "        #pl.col(\"Generation\"),\n",
    "        #pl.col(\"value\").alias(\"Generation_Ori\"),\n",
    "        pl.col(\"data_key\").alias(\"key_id\"),\n",
    "        pl.col(\"data_period\").alias(\"period_id\"),\n",
    "        pl.col(\"Prorrata\").alias(\"value\"),\n",
    "    )\n",
    "    .sort(by=[\"key_id\",\"period_id\"])\n",
    "    .collect()\n",
    ")\n",
    "data_to_update"
   ]
  },
  {
   "cell_type": "code",
   "execution_count": 112,
   "metadata": {},
   "outputs": [
    {
     "name": "stdout",
     "output_type": "stream",
     "text": [
      "{'key_id': 547, 'period_id': 10, 'value': 23.008706735285774}\n",
      "{'key_id': 589, 'period_id': 10, 'value': 2.6724151262515297}\n",
      "{'key_id': 617, 'period_id': 10, 'value': 17.200606874466427}\n",
      "{'key_id': 645, 'period_id': 16, 'value': 1.9573155816215664}\n",
      "{'key_id': 645, 'period_id': 17, 'value': 1.7661906158738894}\n"
     ]
    }
   ],
   "source": [
    "test_dict = data_to_update.head().to_dicts()\n",
    "for row in test_dict:\n",
    "    print(row)"
   ]
  },
  {
   "cell_type": "code",
   "execution_count": 7,
   "metadata": {},
   "outputs": [
    {
     "name": "stdout",
     "output_type": "stream",
     "text": [
      "0\n",
      "0\n",
      "0\n",
      "0\n",
      "0\n"
     ]
    }
   ],
   "source": [
    "from sqlalchemy import (\n",
    "    engine,\n",
    "    create_engine,\n",
    "    inspect,\n",
    ")\n",
    "from sqlalchemy.sql.expression import (\n",
    "    update,\n",
    "    table,\n",
    "    column,\n",
    ")\n",
    "\n",
    "from pathlib import Path\n",
    "\n",
    "import polars as pl\n",
    "\n",
    "df_data = pl.read_csv(\"../t_data_0.csv\")\n",
    "\n",
    "t_data_0 = table(\"t_data_0\", column(\"key_id\"), column(\"period_id\"), column(\"value\"))\n",
    "#stmt = update(t_data_0).where(t_data_0.c.key_id == 1).values(value=0.0)\n",
    "\n",
    "# Inicio de captura de datos en dataframes\n",
    "path_prg = Path(r\"../data/Model PRGdia_Full_Definitivo Solution_neto.accdb\").absolute()\n",
    "\n",
    "if not path_prg.exists():\n",
    "    raise ValueError(f\"Path: {path_prg} does not exists.\")\n",
    "\n",
    "connection_string = (\n",
    "    r\"DRIVER={Microsoft Access Driver (*.mdb, *.accdb)};\"\n",
    "    rf\"DBQ={path_prg.as_posix()};\"\n",
    "    r\"ExtendedAnsiSQL=1;\"\n",
    ")\n",
    "connection_url = engine.URL.create(\n",
    "    \"access+pyodbc\",\n",
    "    query={\"odbc_connect\": connection_string}\n",
    ")\n",
    "\n",
    "prg_engine = create_engine(connection_url)\n",
    "tables = inspect(prg_engine).get_table_names()\n",
    "\n",
    "with prg_engine.begin() as conn:\n",
    "    for row in df_data.head().to_dicts():\n",
    "        stmt = (\n",
    "            t_data_0.update()\n",
    "            .where(t_data_0.c.key_id == row.get(\"key_id\"))\n",
    "            .where(t_data_0.c.period_id == row.get(\"period_id\"))\n",
    "            .values(value=row.get(\"value\"))\n",
    "        )\n",
    "        restuls = conn.execute(stmt)\n",
    "        print(restuls.)\n",
    "    #conn.commit()\n"
   ]
  },
  {
   "cell_type": "code",
   "execution_count": 50,
   "metadata": {},
   "outputs": [],
   "source": [
    "import pyodbc\n",
    "import polars as pl\n",
    "from pathlib import Path\n",
    "\n",
    "df_data = pl.read_csv(\"../t_data_0.csv\")\n",
    "to_update = df_data.head().to_dicts()\n",
    "\n",
    "\n",
    "path_prg = Path(r\"../data/Model PRGdia_Full_Definitivo Solution_neto.accdb\").absolute()\n",
    "\n",
    "connection_string = (\n",
    "    r\"DRIVER={Microsoft Access Driver (*.mdb, *.accdb)};\"\n",
    "    rf\"DBQ={path_prg.as_posix()};\"\n",
    "    r\"ExtendedAnsiSQL=1;\"\n",
    ")\n",
    "\n",
    "cnxn = pyodbc.connect(connection_string)\n",
    "crsr = cnxn.cursor()\n",
    "\n",
    "#sql = \"SELECT TOP 10 * FROM t_data_0 \"\n",
    "#update_sql = r\"UPDATE t_data_0 SET t_data_0.value = ? WHERE t_data_0.key_id = ? AND t_data_0.period_id = ?;\"\n",
    "#params = [(data['value'],data['key_id'],data['period_id']) for data in to_update]\n",
    "#crsr.execute(update_sql, params)\n",
    "#crsr.commit()\n",
    "#cnxn.close()\n",
    "\n",
    "try:\n",
    "    cnxn.autocommit = False\n",
    "    params = params = [(data['value'],data['key_id'],data['period_id']) for data in to_update]\n",
    "    crsr.executemany(\"UPDATE t_data_0 SET t_data_0.value = ? WHERE t_data_0.key_id = ? AND t_data_0.period_id = ?;\", params)\n",
    "except pyodbc.DatabaseError as err:\n",
    "    cnxn.rollback()\n",
    "else:\n",
    "    cnxn.commit()\n",
    "finally:\n",
    "    cnxn.close()"
   ]
  },
  {
   "cell_type": "code",
   "execution_count": 48,
   "metadata": {},
   "outputs": [
    {
     "data": {
      "text/plain": [
       "[(22.9, 547, 9),\n",
       " (19.40015313, 547, 10),\n",
       " (18.22120423, 547, 11),\n",
       " (17.31699723, 547, 12),\n",
       " (15.13053132, 547, 13)]"
      ]
     },
     "execution_count": 48,
     "metadata": {},
     "output_type": "execute_result"
    }
   ],
   "source": [
    "[(data['value'],data['key_id'],data['period_id']) for data in to_update]"
   ]
  },
  {
   "cell_type": "code",
   "execution_count": 46,
   "metadata": {},
   "outputs": [
    {
     "data": {
      "text/plain": [
       "[547, 547, 547, 547, 547]"
      ]
     },
     "execution_count": 46,
     "metadata": {},
     "output_type": "execute_result"
    }
   ],
   "source": [
    "df_data.head().to_dict(as_series=False)['key_id']"
   ]
  },
  {
   "cell_type": "code",
   "execution_count": 2,
   "metadata": {},
   "outputs": [
    {
     "data": {
      "text/plain": [
       "'DRIVER={Microsoft Access Driver (*.mdb, *.accdb)};DBQ=c:/Users/felipe.bastidas/PyProyectos/PoC_ProrrataERV/dev/../data/Model PRGdia_Full_Definitivo Solution_neto.accdb;ExtendedAnsiSQL=1;'"
      ]
     },
     "execution_count": 2,
     "metadata": {},
     "output_type": "execute_result"
    }
   ],
   "source": [
    "from pathlib import Path\n",
    "path_prg = Path(r\"../data/Model PRGdia_Full_Definitivo Solution_neto.accdb\").absolute()\n",
    "\n",
    "connection_string = (\n",
    "    r\"DRIVER={Microsoft Access Driver (*.mdb, *.accdb)};\"\n",
    "    rf\"DBQ={path_prg.as_posix()};\"\n",
    "    r\"ExtendedAnsiSQL=1;\"\n",
    ")\n",
    "connection_string"
   ]
  },
  {
   "cell_type": "markdown",
   "metadata": {},
   "source": [
    "## Otroas Pruebas\n",
    "Revisando detalles del manejo de rutas."
   ]
  },
  {
   "cell_type": "code",
   "execution_count": 39,
   "metadata": {},
   "outputs": [],
   "source": [
    "from pathlib import Path\n",
    "\n",
    "path_prg = r\"C:\\Users\\felipe.bastidas\\PyProyectos\\prg_20240128\"\n",
    "PATH_ACCDB = \"Datos/Model PRGdia_Full_Definitivo Solution/Model PRGdia_Full_Definitivo Solution.accdb\"\n",
    "\n",
    "path_final = Path(path_prg)\n",
    "\n",
    "if path_final.exists():\n",
    "    path = path_final\n",
    "else:\n",
    "    raise ValueError(f\"Path: {path_prg} does not exists.\")\n",
    "\n",
    "temp_path = path / PATH_ACCDB\n",
    "\n",
    "if temp_path.exists():\n",
    "    path = temp_path\n",
    "else:\n",
    "    raise ValueError(f\"Path: {temp_path} does not exists.\")"
   ]
  },
  {
   "cell_type": "code",
   "execution_count": 37,
   "metadata": {},
   "outputs": [
    {
     "data": {
      "text/plain": [
       "WindowsPath('C:/Datos/Model PRGdia_Full_Definitivo Solution/Model PRGdia_Full_Definitivo Solution.accdb')"
      ]
     },
     "execution_count": 37,
     "metadata": {},
     "output_type": "execute_result"
    }
   ],
   "source": [
    "otra_ruta = \"Datos/Model PRGdia_Full_Definitivo Solution/Model PRGdia_Full_Definitivo Solution.accdb\"\n",
    "path / path_accdbs"
   ]
  },
  {
   "cell_type": "code",
   "execution_count": 36,
   "metadata": {},
   "outputs": [
    {
     "data": {
      "text/plain": [
       "WindowsPath('C:/Datos/Model PRGdia_Full_Definitivo Solution/Model PRGdia_Full_Definitivo Solution.accdb')"
      ]
     },
     "execution_count": 36,
     "metadata": {},
     "output_type": "execute_result"
    }
   ],
   "source": [
    "temp_path = path / path_accdbs\n",
    "temp_path"
   ]
  },
  {
   "cell_type": "code",
   "execution_count": 3,
   "metadata": {},
   "outputs": [],
   "source": [
    "import argparse\n",
    "\n",
    "parser = argparse.ArgumentParser(description=\"draw basic graphs on terminal\")\n",
    "parser.add_argument(\n",
    "    \"filename\",\n",
    "    nargs=\"?\",\n",
    "    default=\"-\",\n",
    "    help=\"data file name (comma or space separated). Defaults to stdin.\",\n",
    ")\n",
    "parser.add_argument(\"--title\", help=\"Title of graph\")\n",
    "parser.add_argument(\n",
    "    \"--width\", type=int, default=50, help=\"width of graph in characters default:50\"\n",
    ")\n",
    "parser.add_argument(\"--format\", default=\"{:<5.2f}\", help=\"format specifier to use.\")\n",
    "parser.add_argument(\n",
    "    \"--suffix\", default=\"\", help=\"string to add as a suffix to all data points.\"\n",
    ")\n",
    "parser.add_argument(\n",
    "    \"--no-labels\", action=\"store_true\", help=\"Do not print the label column\"\n",
    ")\n",
    "parser.add_argument(\n",
    "    \"--no-values\", action=\"store_true\", help=\"Do not print the values at end\"\n",
    ")\n",
    "parser.add_argument(\n",
    "    \"--space-between\",\n",
    "    action=\"store_true\",\n",
    "    help=\"Print a new line after every field\",\n",
    ")\n",
    "parser.add_argument(\"--color\", nargs=\"*\", help=\"Graph bar color( s )\")\n",
    "parser.add_argument(\"--vertical\", action=\"store_true\", help=\"Vertical graph\")\n",
    "parser.add_argument(\"--stacked\", action=\"store_true\", help=\"Stacked bar graph\")\n",
    "parser.add_argument(\"--histogram\", action=\"store_true\", help=\"Histogram\")\n",
    "parser.add_argument(\"--bins\", default=5, type=int, help=\"Bins of Histogram\")\n",
    "parser.add_argument(\n",
    "    \"--different-scale\",\n",
    "    action=\"store_true\",\n",
    "    help=\"Categories have different scales.\",\n",
    ")\n",
    "parser.add_argument(\n",
    "    \"--calendar\", action=\"store_true\", help=\"Calendar Heatmap chart\"\n",
    ")\n",
    "parser.add_argument(\"--start-dt\", help=\"Start date for Calendar chart\")\n",
    "parser.add_argument(\n",
    "    \"--custom-tick\", default=\"\", help=\"Custom tick mark, emoji approved\"\n",
    ")\n",
    "parser.add_argument(\n",
    "    \"--delim\", default=\"\", help=\"Custom delimiter, default , or space\"\n",
    ")\n",
    "parser.add_argument(\n",
    "    \"--verbose\", action=\"store_true\", help=\"Verbose output, helpful for debugging\"\n",
    ")\n",
    "parser.add_argument(\n",
    "    \"--label-before\",\n",
    "    action=\"store_true\",\n",
    "    default=False,\n",
    "    help=\"Display the values before the bars\",\n",
    ")\n",
    "parser.add_argument(\n",
    "    \"--version\", action=\"store_true\", help=\"Display version and exit\"\n",
    ")\n",
    "args = vars(parser.parse_args())"
   ]
  },
  {
   "cell_type": "code",
   "execution_count": 8,
   "metadata": {},
   "outputs": [
    {
     "ename": "NameError",
     "evalue": "name 'args' is not defined",
     "output_type": "error",
     "traceback": [
      "\u001b[1;31m---------------------------------------------------------------------------\u001b[0m",
      "\u001b[1;31mNameError\u001b[0m                                 Traceback (most recent call last)",
      "Cell \u001b[1;32mIn[8], line 2\u001b[0m\n\u001b[0;32m      1\u001b[0m \u001b[38;5;28;01mimport\u001b[39;00m \u001b[38;5;21;01mre\u001b[39;00m\n\u001b[1;32m----> 2\u001b[0m \u001b[43margs\u001b[49m[\u001b[38;5;124m\"\u001b[39m\u001b[38;5;124mcolor\u001b[39m\u001b[38;5;124m\"\u001b[39m] \u001b[38;5;241m=\u001b[39m [\u001b[38;5;124m\"\u001b[39m\u001b[38;5;124mblue,red\u001b[39m\u001b[38;5;124m\"\u001b[39m]\n\u001b[0;32m      3\u001b[0m args[\u001b[38;5;124m\"\u001b[39m\u001b[38;5;124mcolor\u001b[39m\u001b[38;5;124m\"\u001b[39m][\u001b[38;5;241m0\u001b[39m]\n\u001b[0;32m      4\u001b[0m colorargs \u001b[38;5;241m=\u001b[39m re\u001b[38;5;241m.\u001b[39mfindall(\u001b[38;5;124mr\u001b[39m\u001b[38;5;124m\"\u001b[39m\u001b[38;5;124m[a-z]+\u001b[39m\u001b[38;5;124m\"\u001b[39m, args[\u001b[38;5;124m\"\u001b[39m\u001b[38;5;124mcolor\u001b[39m\u001b[38;5;124m\"\u001b[39m][\u001b[38;5;241m0\u001b[39m])\n",
      "\u001b[1;31mNameError\u001b[0m: name 'args' is not defined"
     ]
    }
   ],
   "source": [
    "import re\n",
    "args[\"color\"] = [\"blue,red\"]\n",
    "args[\"color\"][0]\n",
    "colorargs = re.findall(r\"[a-z]+\", args[\"color\"][0])"
   ]
  },
  {
   "cell_type": "code",
   "execution_count": 44,
   "metadata": {},
   "outputs": [
    {
     "data": {
      "text/html": [
       "<div><style>\n",
       ".dataframe > thead > tr,\n",
       ".dataframe > tbody > tr {\n",
       "  text-align: right;\n",
       "  white-space: pre-wrap;\n",
       "}\n",
       "</style>\n",
       "<small>shape: (11, 1)</small><table border=\"1\" class=\"dataframe\"><thead><tr><th>datatime</th></tr><tr><td>str</td></tr></thead><tbody><tr><td>&quot;2024/01/28 08:…</td></tr><tr><td>&quot;2024/01/28 09:…</td></tr><tr><td>&quot;2024/01/28 10:…</td></tr><tr><td>&quot;2024/01/28 11:…</td></tr><tr><td>&quot;2024/01/28 12:…</td></tr><tr><td>&quot;2024/01/28 13:…</td></tr><tr><td>&quot;2024/01/28 14:…</td></tr><tr><td>&quot;2024/01/28 15:…</td></tr><tr><td>&quot;2024/01/28 16:…</td></tr><tr><td>&quot;2024/01/28 17:…</td></tr><tr><td>&quot;2024/01/28 18:…</td></tr></tbody></table></div>"
      ],
      "text/plain": [
       "shape: (11, 1)\n",
       "┌──────────────────┐\n",
       "│ datatime         │\n",
       "│ ---              │\n",
       "│ str              │\n",
       "╞══════════════════╡\n",
       "│ 2024/01/28 08:00 │\n",
       "│ 2024/01/28 09:00 │\n",
       "│ 2024/01/28 10:00 │\n",
       "│ 2024/01/28 11:00 │\n",
       "│ …                │\n",
       "│ 2024/01/28 15:00 │\n",
       "│ 2024/01/28 16:00 │\n",
       "│ 2024/01/28 17:00 │\n",
       "│ 2024/01/28 18:00 │\n",
       "└──────────────────┘"
      ]
     },
     "execution_count": 44,
     "metadata": {},
     "output_type": "execute_result"
    }
   ],
   "source": [
    "import polars as pl\n",
    "\n",
    "data = pl.read_csv(\n",
    "    \"results.csv\",\n",
    "    has_header=False,\n",
    "    new_columns=[\"datatime\",\"Generacion\",\"Prorrata\"],\n",
    "    dtypes={\"datatime\": pl.Datetime, \"Generacion\": pl.Float64, \"Prorrata\": pl.Float64},\n",
    ")\n",
    "data.select(pl.col(\"datatime\").dt.to_string(\"%Y/%m/%d %H:%M\"))"
   ]
  },
  {
   "cell_type": "code",
   "execution_count": 48,
   "metadata": {},
   "outputs": [
    {
     "name": "stdout",
     "output_type": "stream",
     "text": [
      "2024-01-28 08:00 3685.7746478618046 3685.774647894004\n",
      "2024-01-28 09:00 3826.365923642415 3826.366001804971\n",
      "2024-01-28 10:00 4029.8190949281425 4029.8220470943434\n",
      "2024-01-28 11:00 4056.4111663333483 4056.4183488257495\n",
      "2024-01-28 12:00 3692.5157544370054 3692.5264510220723\n",
      "2024-01-28 13:00 3790.5156957481945 3790.5211362573937\n",
      "2024-01-28 14:00 4044.9561936349564 4044.958635853661\n",
      "2024-01-28 15:00 4166.019679341192 4166.021516020728\n",
      "2024-01-28 16:00 3805.5742595074153 3805.5755061459286\n",
      "2024-01-28 17:00 4157.587291915179 4157.587461670527\n",
      "2024-01-28 18:00 4143.025591253948 4143.025591639975\n"
     ]
    }
   ],
   "source": [
    "from datetime import datetime\n",
    "for row in data.iter_rows():\n",
    "    print(row[0].strftime('%Y-%m-%d %H:%M'),str(row[1]),row[2]) "
   ]
  },
  {
   "cell_type": "code",
   "execution_count": 14,
   "metadata": {},
   "outputs": [
    {
     "name": "stdout",
     "output_type": "stream",
     "text": [
      "\n",
      "# Resultados prorrata ERV\n",
      "\n",
      "luemluem▇ Generación  edmedm▇ Prorrata  \n",
      "\n",
      "\n",
      "2024-01-28T08:00:00.000000: ▇▇▇▇▇▇▇▇▇▇▇▇▇▇▇▇▇▇▇▇▇▇▇▇▇▇▇▇▇▇▇▇▇▇▇▇▇▇▇▇▇▇▇▇ c:\\Users\\felipe.bastidas\\AppData\\Roaming\\jupyter\\runtime\\kernel-v2-42968HapOFMtHRmjv.jsonK\n",
      "                            ▇▇▇▇▇▇▇▇▇▇▇▇▇▇▇▇▇▇▇▇▇▇▇▇▇▇▇▇▇▇▇▇▇▇▇▇▇▇▇▇▇▇▇▇ c:\\Users\\felipe.bastidas\\AppData\\Roaming\\jupyter\\runtime\\kernel-v2-42968HapOFMtHRmjv.jsonK\n",
      "2024-01-28T09:00:00.000000: ▇▇▇▇▇▇▇▇▇▇▇▇▇▇▇▇▇▇▇▇▇▇▇▇▇▇▇▇▇▇▇▇▇▇▇▇▇▇▇▇▇▇▇▇▇ c:\\Users\\felipe.bastidas\\AppData\\Roaming\\jupyter\\runtime\\kernel-v2-42968HapOFMtHRmjv.jsonK\n",
      "                            ▇▇▇▇▇▇▇▇▇▇▇▇▇▇▇▇▇▇▇▇▇▇▇▇▇▇▇▇▇▇▇▇▇▇▇▇▇▇▇▇▇▇▇▇▇ c:\\Users\\felipe.bastidas\\AppData\\Roaming\\jupyter\\runtime\\kernel-v2-42968HapOFMtHRmjv.jsonK\n",
      "2024-01-28T10:00:00.000000: ▇▇▇▇▇▇▇▇▇▇▇▇▇▇▇▇▇▇▇▇▇▇▇▇▇▇▇▇▇▇▇▇▇▇▇▇▇▇▇▇▇▇▇▇▇▇▇▇ c:\\Users\\felipe.bastidas\\AppData\\Roaming\\jupyter\\runtime\\kernel-v2-42968HapOFMtHRmjv.jsonK\n",
      "                            ▇▇▇▇▇▇▇▇▇▇▇▇▇▇▇▇▇▇▇▇▇▇▇▇▇▇▇▇▇▇▇▇▇▇▇▇▇▇▇▇▇▇▇▇▇▇▇▇ c:\\Users\\felipe.bastidas\\AppData\\Roaming\\jupyter\\runtime\\kernel-v2-42968HapOFMtHRmjv.jsonK\n",
      "2024-01-28T11:00:00.000000: ▇▇▇▇▇▇▇▇▇▇▇▇▇▇▇▇▇▇▇▇▇▇▇▇▇▇▇▇▇▇▇▇▇▇▇▇▇▇▇▇▇▇▇▇▇▇▇▇ c:\\Users\\felipe.bastidas\\AppData\\Roaming\\jupyter\\runtime\\kernel-v2-42968HapOFMtHRmjv.jsonK\n",
      "                            ▇▇▇▇▇▇▇▇▇▇▇▇▇▇▇▇▇▇▇▇▇▇▇▇▇▇▇▇▇▇▇▇▇▇▇▇▇▇▇▇▇▇▇▇▇▇▇▇ c:\\Users\\felipe.bastidas\\AppData\\Roaming\\jupyter\\runtime\\kernel-v2-42968HapOFMtHRmjv.jsonK\n",
      "2024-01-28T12:00:00.000000: ▇▇▇▇▇▇▇▇▇▇▇▇▇▇▇▇▇▇▇▇▇▇▇▇▇▇▇▇▇▇▇▇▇▇▇▇▇▇▇▇▇▇▇▇ c:\\Users\\felipe.bastidas\\AppData\\Roaming\\jupyter\\runtime\\kernel-v2-42968HapOFMtHRmjv.jsonK\n",
      "                            ▇▇▇▇▇▇▇▇▇▇▇▇▇▇▇▇▇▇▇▇▇▇▇▇▇▇▇▇▇▇▇▇▇▇▇▇▇▇▇▇▇▇▇▇ c:\\Users\\felipe.bastidas\\AppData\\Roaming\\jupyter\\runtime\\kernel-v2-42968HapOFMtHRmjv.jsonK\n",
      "2024-01-28T13:00:00.000000: ▇▇▇▇▇▇▇▇▇▇▇▇▇▇▇▇▇▇▇▇▇▇▇▇▇▇▇▇▇▇▇▇▇▇▇▇▇▇▇▇▇▇▇▇▇ c:\\Users\\felipe.bastidas\\AppData\\Roaming\\jupyter\\runtime\\kernel-v2-42968HapOFMtHRmjv.jsonK\n",
      "                            ▇▇▇▇▇▇▇▇▇▇▇▇▇▇▇▇▇▇▇▇▇▇▇▇▇▇▇▇▇▇▇▇▇▇▇▇▇▇▇▇▇▇▇▇▇ c:\\Users\\felipe.bastidas\\AppData\\Roaming\\jupyter\\runtime\\kernel-v2-42968HapOFMtHRmjv.jsonK\n",
      "2024-01-28T14:00:00.000000: ▇▇▇▇▇▇▇▇▇▇▇▇▇▇▇▇▇▇▇▇▇▇▇▇▇▇▇▇▇▇▇▇▇▇▇▇▇▇▇▇▇▇▇▇▇▇▇▇ c:\\Users\\felipe.bastidas\\AppData\\Roaming\\jupyter\\runtime\\kernel-v2-42968HapOFMtHRmjv.jsonK\n",
      "                            ▇▇▇▇▇▇▇▇▇▇▇▇▇▇▇▇▇▇▇▇▇▇▇▇▇▇▇▇▇▇▇▇▇▇▇▇▇▇▇▇▇▇▇▇▇▇▇▇ c:\\Users\\felipe.bastidas\\AppData\\Roaming\\jupyter\\runtime\\kernel-v2-42968HapOFMtHRmjv.jsonK\n",
      "2024-01-28T15:00:00.000000: ▇▇▇▇▇▇▇▇▇▇▇▇▇▇▇▇▇▇▇▇▇▇▇▇▇▇▇▇▇▇▇▇▇▇▇▇▇▇▇▇▇▇▇▇▇▇▇▇▇ c:\\Users\\felipe.bastidas\\AppData\\Roaming\\jupyter\\runtime\\kernel-v2-42968HapOFMtHRmjv.jsonK\n",
      "                            ▇▇▇▇▇▇▇▇▇▇▇▇▇▇▇▇▇▇▇▇▇▇▇▇▇▇▇▇▇▇▇▇▇▇▇▇▇▇▇▇▇▇▇▇▇▇▇▇▇▇ c:\\Users\\felipe.bastidas\\AppData\\Roaming\\jupyter\\runtime\\kernel-v2-42968HapOFMtHRmjv.jsonK\n",
      "2024-01-28T16:00:00.000000: ▇▇▇▇▇▇▇▇▇▇▇▇▇▇▇▇▇▇▇▇▇▇▇▇▇▇▇▇▇▇▇▇▇▇▇▇▇▇▇▇▇▇▇▇▇ c:\\Users\\felipe.bastidas\\AppData\\Roaming\\jupyter\\runtime\\kernel-v2-42968HapOFMtHRmjv.jsonK\n",
      "                            ▇▇▇▇▇▇▇▇▇▇▇▇▇▇▇▇▇▇▇▇▇▇▇▇▇▇▇▇▇▇▇▇▇▇▇▇▇▇▇▇▇▇▇▇▇ c:\\Users\\felipe.bastidas\\AppData\\Roaming\\jupyter\\runtime\\kernel-v2-42968HapOFMtHRmjv.jsonK\n",
      "2024-01-28T17:00:00.000000: ▇▇▇▇▇▇▇▇▇▇▇▇▇▇▇▇▇▇▇▇▇▇▇▇▇▇▇▇▇▇▇▇▇▇▇▇▇▇▇▇▇▇▇▇▇▇▇▇▇ c:\\Users\\felipe.bastidas\\AppData\\Roaming\\jupyter\\runtime\\kernel-v2-42968HapOFMtHRmjv.jsonK\n",
      "                            ▇▇▇▇▇▇▇▇▇▇▇▇▇▇▇▇▇▇▇▇▇▇▇▇▇▇▇▇▇▇▇▇▇▇▇▇▇▇▇▇▇▇▇▇▇▇▇▇▇ c:\\Users\\felipe.bastidas\\AppData\\Roaming\\jupyter\\runtime\\kernel-v2-42968HapOFMtHRmjv.jsonK\n",
      "2024-01-28T18:00:00.000000: ▇▇▇▇▇▇▇▇▇▇▇▇▇▇▇▇▇▇▇▇▇▇▇▇▇▇▇▇▇▇▇▇▇▇▇▇▇▇▇▇▇▇▇▇▇▇▇▇▇ c:\\Users\\felipe.bastidas\\AppData\\Roaming\\jupyter\\runtime\\kernel-v2-42968HapOFMtHRmjv.jsonK\n",
      "                            ▇▇▇▇▇▇▇▇▇▇▇▇▇▇▇▇▇▇▇▇▇▇▇▇▇▇▇▇▇▇▇▇▇▇▇▇▇▇▇▇▇▇▇▇▇▇▇▇▇ c:\\Users\\felipe.bastidas\\AppData\\Roaming\\jupyter\\runtime\\kernel-v2-42968HapOFMtHRmjv.jsonK\n",
      "\n"
     ]
    }
   ],
   "source": [
    "from termgraph import termgraph as tg\n",
    "from colorama import init\n",
    "\n",
    "\n",
    "init()\n",
    "args_default = tg.init_args()\n",
    "args_default[\"title\"] = \"Resultados prorrata ERV\"\n",
    "args_default[\"color\"] = [\"blue,red\"]\n",
    "args_default[\"filename\"] = \"results.csv\"\n",
    "# Agregar categorias para el gráfico.\n",
    "##linea_texto = '@ Generacion, Prorrata'\n",
    "#with open(args_default[\"filename\"], 'a', encoding='utf-8') as archivo:\n",
    "#    archivo.write(linea_texto)\n",
    "_, labels, data, colors = tg.read_data(args_default)\n",
    "colorargs = re.findall(r\"[a-z]+\", args_default[\"color\"][0])\n",
    "catergories = [\"Generación\",\"Prorrata\"]\n",
    "tg.print_categories(catergories, colorargs)\n",
    "tg.chart(colors, data, args_default, labels)"
   ]
  },
  {
   "cell_type": "code",
   "execution_count": 6,
   "metadata": {},
   "outputs": [
    {
     "ename": "NameError",
     "evalue": "name 'categories' is not defined",
     "output_type": "error",
     "traceback": [
      "\u001b[1;31m---------------------------------------------------------------------------\u001b[0m",
      "\u001b[1;31mNameError\u001b[0m                                 Traceback (most recent call last)",
      "Cell \u001b[1;32mIn[6], line 1\u001b[0m\n\u001b[1;32m----> 1\u001b[0m \u001b[43mcategories\u001b[49m\n",
      "\u001b[1;31mNameError\u001b[0m: name 'categories' is not defined"
     ]
    }
   ],
   "source": [
    "categories"
   ]
  },
  {
   "cell_type": "code",
   "execution_count": 13,
   "metadata": {},
   "outputs": [],
   "source": [
    "from pathlib import Path\n",
    "\n",
    "path_prg = Path(r'C:\\Users\\felipe.bastidas\\PyProyectos\\prg_20240128\\Datos\\Model PRGdia_Full_Definitivo Solution')\n",
    "\n",
    "\n",
    "temp_path = Path(path_prg).parent.parent\n",
    "path_prg = temp_path.as_posix()"
   ]
  },
  {
   "cell_type": "code",
   "execution_count": 14,
   "metadata": {},
   "outputs": [
    {
     "data": {
      "text/plain": [
       "'C:/Users/felipe.bastidas/PyProyectos/prg_20240128'"
      ]
     },
     "execution_count": 14,
     "metadata": {},
     "output_type": "execute_result"
    }
   ],
   "source": [
    "path_prg"
   ]
  }
 ],
 "metadata": {
  "kernelspec": {
   "display_name": ".venv",
   "language": "python",
   "name": "python3"
  },
  "language_info": {
   "codemirror_mode": {
    "name": "ipython",
    "version": 3
   },
   "file_extension": ".py",
   "mimetype": "text/x-python",
   "name": "python",
   "nbconvert_exporter": "python",
   "pygments_lexer": "ipython3",
   "version": "3.11.7"
  }
 },
 "nbformat": 4,
 "nbformat_minor": 2
}
